{
  "cells": [
    {
      "cell_type": "markdown",
      "metadata": {
        "id": "view-in-github",
        "colab_type": "text"
      },
      "source": [
        "<a href=\"https://colab.research.google.com/github/huangtinglin/test_colab/blob/main/CPSC483_colab2.ipynb\" target=\"_parent\"><img src=\"https://colab.research.google.com/assets/colab-badge.svg\" alt=\"Open In Colab\"/></a>"
      ]
    },
    {
      "cell_type": "markdown",
      "metadata": {
        "id": "VWhUwO_-mL2s"
      },
      "source": [
        "## GNN for link prediction and graph classification task\n",
        "\n",
        "Last time we explore a standard benchmark datase Cora, and implement a classic graph neural network GCN(Kipf et al. (2017)) for node classification task. In this Colab, we are going to explore two kinds of graph learning task: **link prediction** and **graph classification**. We will apply GCN to both of these two tasks. All of these implementations are still based on the [PyG](https://pytorch-geometric.readthedocs.io/en/latest/).\n"
      ]
    },
    {
      "cell_type": "markdown",
      "metadata": {
        "id": "0R0-JXHoqhtD"
      },
      "source": [
        "## Outline\n",
        "\n"
      ]
    },
    {
      "cell_type": "markdown",
      "metadata": {
        "id": "ETQPVYpoqsvY"
      },
      "source": [
        "- Link prediction task\n",
        "- Graph classification task"
      ]
    },
    {
      "cell_type": "code",
      "execution_count": 1,
      "metadata": {
        "id": "Q4_xAy_J-WJp",
        "colab": {
          "base_uri": "https://localhost:8080/"
        },
        "outputId": "707ff77f-a1e7-4c75-d114-65aa5aa452ca"
      },
      "outputs": [
        {
          "output_type": "stream",
          "name": "stdout",
          "text": [
            "Using torch 1.12.1+cu113\n"
          ]
        }
      ],
      "source": [
        "# import the pytorch library into environment and check its version\n",
        "import os\n",
        "import torch\n",
        "print(\"Using torch\", torch.__version__)"
      ]
    },
    {
      "cell_type": "markdown",
      "metadata": {
        "id": "MC5DJkYNWGeL"
      },
      "source": [
        "Let's start installing PyG by `pip`. The version of PyG should match the current version of PyTorch. Here we follow the [instruction](https://pytorch-geometric.readthedocs.io/en/latest/notes/installation.html) of PyG:"
      ]
    },
    {
      "cell_type": "code",
      "execution_count": 2,
      "metadata": {
        "id": "NWtNbC9FgZOM",
        "colab": {
          "base_uri": "https://localhost:8080/"
        },
        "outputId": "831d122a-baed-4d5e-9356-e41a3d9436bc"
      },
      "outputs": [
        {
          "output_type": "stream",
          "name": "stdout",
          "text": [
            "Looking in indexes: https://pypi.org/simple, https://us-python.pkg.dev/colab-wheels/public/simple/\n",
            "Looking in links: https://data.pyg.org/whl/torch-1.12.0+cu113.html\n",
            "Collecting torch-scatter\n",
            "  Downloading https://data.pyg.org/whl/torch-1.12.0%2Bcu113/torch_scatter-2.0.9-cp37-cp37m-linux_x86_64.whl (7.9 MB)\n",
            "\u001b[K     |████████████████████████████████| 7.9 MB 3.8 MB/s \n",
            "\u001b[?25hCollecting torch-sparse\n",
            "  Downloading https://data.pyg.org/whl/torch-1.12.0%2Bcu113/torch_sparse-0.6.15-cp37-cp37m-linux_x86_64.whl (3.5 MB)\n",
            "\u001b[K     |████████████████████████████████| 3.5 MB 52.3 MB/s \n",
            "\u001b[?25hCollecting torch-cluster\n",
            "  Downloading https://data.pyg.org/whl/torch-1.12.0%2Bcu113/torch_cluster-1.6.0-cp37-cp37m-linux_x86_64.whl (2.4 MB)\n",
            "\u001b[K     |████████████████████████████████| 2.4 MB 44.9 MB/s \n",
            "\u001b[?25hCollecting torch-spline-conv\n",
            "  Downloading https://data.pyg.org/whl/torch-1.12.0%2Bcu113/torch_spline_conv-1.2.1-cp37-cp37m-linux_x86_64.whl (709 kB)\n",
            "\u001b[K     |████████████████████████████████| 709 kB 29.8 MB/s \n",
            "\u001b[?25hCollecting torch-geometric\n",
            "  Downloading torch_geometric-2.1.0.post1.tar.gz (467 kB)\n",
            "\u001b[K     |████████████████████████████████| 467 kB 4.2 MB/s \n",
            "\u001b[?25hRequirement already satisfied: scipy in /usr/local/lib/python3.7/dist-packages (from torch-sparse) (1.7.3)\n",
            "Requirement already satisfied: tqdm in /usr/local/lib/python3.7/dist-packages (from torch-geometric) (4.64.1)\n",
            "Requirement already satisfied: numpy in /usr/local/lib/python3.7/dist-packages (from torch-geometric) (1.21.6)\n",
            "Requirement already satisfied: jinja2 in /usr/local/lib/python3.7/dist-packages (from torch-geometric) (2.11.3)\n",
            "Requirement already satisfied: requests in /usr/local/lib/python3.7/dist-packages (from torch-geometric) (2.23.0)\n",
            "Requirement already satisfied: pyparsing in /usr/local/lib/python3.7/dist-packages (from torch-geometric) (3.0.9)\n",
            "Requirement already satisfied: scikit-learn in /usr/local/lib/python3.7/dist-packages (from torch-geometric) (1.0.2)\n",
            "Requirement already satisfied: MarkupSafe>=0.23 in /usr/local/lib/python3.7/dist-packages (from jinja2->torch-geometric) (2.0.1)\n",
            "Requirement already satisfied: idna<3,>=2.5 in /usr/local/lib/python3.7/dist-packages (from requests->torch-geometric) (2.10)\n",
            "Requirement already satisfied: urllib3!=1.25.0,!=1.25.1,<1.26,>=1.21.1 in /usr/local/lib/python3.7/dist-packages (from requests->torch-geometric) (1.24.3)\n",
            "Requirement already satisfied: certifi>=2017.4.17 in /usr/local/lib/python3.7/dist-packages (from requests->torch-geometric) (2022.9.24)\n",
            "Requirement already satisfied: chardet<4,>=3.0.2 in /usr/local/lib/python3.7/dist-packages (from requests->torch-geometric) (3.0.4)\n",
            "Requirement already satisfied: threadpoolctl>=2.0.0 in /usr/local/lib/python3.7/dist-packages (from scikit-learn->torch-geometric) (3.1.0)\n",
            "Requirement already satisfied: joblib>=0.11 in /usr/local/lib/python3.7/dist-packages (from scikit-learn->torch-geometric) (1.2.0)\n",
            "Building wheels for collected packages: torch-geometric\n",
            "  Building wheel for torch-geometric (setup.py) ... \u001b[?25l\u001b[?25hdone\n",
            "  Created wheel for torch-geometric: filename=torch_geometric-2.1.0.post1-py3-none-any.whl size=689859 sha256=1eff843bcc4fcba77bd761ee9cc46e4aa4d1d233efec4d14b5f092da88e9fb39\n",
            "  Stored in directory: /root/.cache/pip/wheels/d1/cb/43/f7f2e472de4d7cff31bceddadc36d634e1e545fbc17961c282\n",
            "Successfully built torch-geometric\n",
            "Installing collected packages: torch-spline-conv, torch-sparse, torch-scatter, torch-geometric, torch-cluster\n",
            "Successfully installed torch-cluster-1.6.0 torch-geometric-2.1.0.post1 torch-scatter-2.0.9 torch-sparse-0.6.15 torch-spline-conv-1.2.1\n",
            "Looking in indexes: https://pypi.org/simple, https://us-python.pkg.dev/colab-wheels/public/simple/\n",
            "Collecting ogb\n",
            "  Downloading ogb-1.3.4-py3-none-any.whl (78 kB)\n",
            "\u001b[K     |████████████████████████████████| 78 kB 2.9 MB/s \n",
            "\u001b[?25hRequirement already satisfied: urllib3>=1.24.0 in /usr/local/lib/python3.7/dist-packages (from ogb) (1.24.3)\n",
            "Requirement already satisfied: tqdm>=4.29.0 in /usr/local/lib/python3.7/dist-packages (from ogb) (4.64.1)\n",
            "Collecting outdated>=0.2.0\n",
            "  Downloading outdated-0.2.1-py3-none-any.whl (7.5 kB)\n",
            "Requirement already satisfied: scikit-learn>=0.20.0 in /usr/local/lib/python3.7/dist-packages (from ogb) (1.0.2)\n",
            "Requirement already satisfied: torch>=1.6.0 in /usr/local/lib/python3.7/dist-packages (from ogb) (1.12.1+cu113)\n",
            "Requirement already satisfied: pandas>=0.24.0 in /usr/local/lib/python3.7/dist-packages (from ogb) (1.3.5)\n",
            "Requirement already satisfied: six>=1.12.0 in /usr/local/lib/python3.7/dist-packages (from ogb) (1.15.0)\n",
            "Requirement already satisfied: numpy>=1.16.0 in /usr/local/lib/python3.7/dist-packages (from ogb) (1.21.6)\n",
            "Requirement already satisfied: requests in /usr/local/lib/python3.7/dist-packages (from outdated>=0.2.0->ogb) (2.23.0)\n",
            "Collecting littleutils\n",
            "  Downloading littleutils-0.2.2.tar.gz (6.6 kB)\n",
            "Requirement already satisfied: python-dateutil>=2.7.3 in /usr/local/lib/python3.7/dist-packages (from pandas>=0.24.0->ogb) (2.8.2)\n",
            "Requirement already satisfied: pytz>=2017.3 in /usr/local/lib/python3.7/dist-packages (from pandas>=0.24.0->ogb) (2022.4)\n",
            "Requirement already satisfied: threadpoolctl>=2.0.0 in /usr/local/lib/python3.7/dist-packages (from scikit-learn>=0.20.0->ogb) (3.1.0)\n",
            "Requirement already satisfied: scipy>=1.1.0 in /usr/local/lib/python3.7/dist-packages (from scikit-learn>=0.20.0->ogb) (1.7.3)\n",
            "Requirement already satisfied: joblib>=0.11 in /usr/local/lib/python3.7/dist-packages (from scikit-learn>=0.20.0->ogb) (1.2.0)\n",
            "Requirement already satisfied: typing-extensions in /usr/local/lib/python3.7/dist-packages (from torch>=1.6.0->ogb) (4.1.1)\n",
            "Requirement already satisfied: chardet<4,>=3.0.2 in /usr/local/lib/python3.7/dist-packages (from requests->outdated>=0.2.0->ogb) (3.0.4)\n",
            "Requirement already satisfied: certifi>=2017.4.17 in /usr/local/lib/python3.7/dist-packages (from requests->outdated>=0.2.0->ogb) (2022.9.24)\n",
            "Requirement already satisfied: idna<3,>=2.5 in /usr/local/lib/python3.7/dist-packages (from requests->outdated>=0.2.0->ogb) (2.10)\n",
            "Building wheels for collected packages: littleutils\n",
            "  Building wheel for littleutils (setup.py) ... \u001b[?25l\u001b[?25hdone\n",
            "  Created wheel for littleutils: filename=littleutils-0.2.2-py3-none-any.whl size=7048 sha256=66cb7d8289aee4f7922875dafe4ab4d2532f0a65c4de057a552e498fb05412ea\n",
            "  Stored in directory: /root/.cache/pip/wheels/d6/64/cd/32819b511a488e4993f2fab909a95330289c3f4e0f6ef4676d\n",
            "Successfully built littleutils\n",
            "Installing collected packages: littleutils, outdated, ogb\n",
            "Successfully installed littleutils-0.2.2 ogb-1.3.4 outdated-0.2.1\n"
          ]
        }
      ],
      "source": [
        "!pip install torch-scatter torch-sparse torch-cluster torch-spline-conv torch-geometric -f https://data.pyg.org/whl/torch-1.12.0+cu113.html\n",
        "!pip install ogb  # for datasets"
      ]
    },
    {
      "cell_type": "markdown",
      "source": [
        "Import some required libraries into our environment:"
      ],
      "metadata": {
        "id": "Xis2aKwZI5YW"
      }
    },
    {
      "cell_type": "code",
      "source": [
        "from torch_geometric.data import Data\n",
        "from torch_geometric.datasets import Planetoid\n",
        "from torch_geometric import nn\n",
        "import torch_geometric.transforms as T"
      ],
      "metadata": {
        "id": "9JDyVPnhJlq8"
      },
      "execution_count": 3,
      "outputs": []
    },
    {
      "cell_type": "markdown",
      "source": [
        "\n",
        "## Link prediction task"
      ],
      "metadata": {
        "id": "cqa3EchaJiQS"
      }
    },
    {
      "cell_type": "markdown",
      "metadata": {
        "id": "Ei5_O8ZXtlGb"
      },
      "source": [
        "\n",
        "### Dataset preprocess\n",
        "\n",
        "As shown in the following figure, link prediction is to predict whether two nodes in a graph have a link, which can be considered as a binary classification task. We will construct a link prediction dataset containing training, validation, and test set based on Cora. "
      ]
    },
    {
      "cell_type": "markdown",
      "metadata": {
        "id": "PNeApmAljKyq"
      },
      "source": [
        "\n",
        "<br/>\n",
        "<center>\n",
        "<img src=\"https://github.com/Graph-and-Geometric-Learning/CPSC483-colab/blob/main/fig/link_prediction_example.png?raw=1\" height=\"200\" width=\"200\"/>\n",
        "</center>\n",
        "<br/>\n"
      ]
    },
    {
      "cell_type": "markdown",
      "source": [
        "Given a graph, we divide the initial edge set into three distinct edge sets which represent the training, validation, and test set. Training set and validation set share a same graph structure. Test set contains some edges which does not exist in training and validation set to prevent data leakage.\n",
        "<!-- Training set does not include edges in validation and test set, and the validation split does not include edges in the test split. Validation and test data should not be leaked into the training set. -->"
      ],
      "metadata": {
        "id": "H-iKLSi5OPnN"
      }
    },
    {
      "cell_type": "markdown",
      "source": [
        "\n",
        "<br/>\n",
        "<center>\n",
        "<img src=\"https://github.com/Graph-and-Geometric-Learning/CPSC483-colab/blob/main/fig/link_prediction_dataset_split(2).png?raw=1\" height=\"200\" width=\"350\"/>\n",
        "</center>\n",
        "<br/>\n"
      ],
      "metadata": {
        "id": "1DscWvNMZOme"
      }
    },
    {
      "cell_type": "markdown",
      "source": [
        "Our model will be optimized on the training set. We can use `transforms` function in PyG to easily generate the data splits:"
      ],
      "metadata": {
        "id": "l1QqInaaWDA9"
      }
    },
    {
      "cell_type": "code",
      "source": [
        "transform = T.Compose([\n",
        "    T.RandomLinkSplit(num_val=0.05,  # ratio of edges including in the validation set\n",
        "                      num_test=0.2,  # ratio of edges including in the test set\n",
        "                      is_undirected=True,\n",
        "                      add_negative_train_samples=False),\n",
        "])"
      ],
      "metadata": {
        "id": "eDhm2T8WNdY0"
      },
      "execution_count": 4,
      "outputs": []
    },
    {
      "cell_type": "markdown",
      "source": [
        "Loading the Cora dataset:"
      ],
      "metadata": {
        "id": "Yy8kRq68apgr"
      }
    },
    {
      "cell_type": "code",
      "source": [
        "dataset = Planetoid('/tmp/cora', 'cora', transform=transform)"
      ],
      "metadata": {
        "id": "MaZoDsHealti",
        "outputId": "40749ecb-6f78-4f2e-b5f8-3751b047908f",
        "colab": {
          "base_uri": "https://localhost:8080/"
        }
      },
      "execution_count": 5,
      "outputs": [
        {
          "output_type": "stream",
          "name": "stderr",
          "text": [
            "Downloading https://github.com/kimiyoung/planetoid/raw/master/data/ind.cora.x\n",
            "Downloading https://github.com/kimiyoung/planetoid/raw/master/data/ind.cora.tx\n",
            "Downloading https://github.com/kimiyoung/planetoid/raw/master/data/ind.cora.allx\n",
            "Downloading https://github.com/kimiyoung/planetoid/raw/master/data/ind.cora.y\n",
            "Downloading https://github.com/kimiyoung/planetoid/raw/master/data/ind.cora.ty\n",
            "Downloading https://github.com/kimiyoung/planetoid/raw/master/data/ind.cora.ally\n",
            "Downloading https://github.com/kimiyoung/planetoid/raw/master/data/ind.cora.graph\n",
            "Downloading https://github.com/kimiyoung/planetoid/raw/master/data/ind.cora.test.index\n",
            "Processing...\n",
            "Done!\n"
          ]
        }
      ]
    },
    {
      "cell_type": "markdown",
      "source": [
        "The data will be transformed from a data object to three tuples, where each element represents the corresponding split:"
      ],
      "metadata": {
        "id": "A2mPElioa6Sk"
      }
    },
    {
      "cell_type": "code",
      "source": [
        "train_data, val_data, test_data = dataset[0]"
      ],
      "metadata": {
        "id": "DdTGSQyta6mS"
      },
      "execution_count": 6,
      "outputs": []
    },
    {
      "cell_type": "markdown",
      "source": [
        "Now data object has two attributes of edge: `edge_index` and `edge_label_index`. `edge_index` denotes the graph structure used for performing message passing in GNN. `edge_label_index` denotes the edge index used to calculate loss in training set, or to evaluate the model in validation and test set.\n"
      ],
      "metadata": {
        "id": "dvWso73JQHqE"
      }
    },
    {
      "cell_type": "markdown",
      "source": [
        "Printing the statistics of data:"
      ],
      "metadata": {
        "id": "tKcMT7L1i1t7"
      }
    },
    {
      "cell_type": "code",
      "source": [
        "print(\"Number of the nodes in training, validation and test data are\", train_data.num_nodes, val_data.num_nodes, test_data.num_nodes)\n",
        "print(\"Number of the edges in training, validation and test data are\", train_data.num_edges, val_data.num_edges, test_data.num_edges)\n",
        "print(\"Number of the edge_label_index in training, validation and test data are\", train_data.edge_label_index.shape[1], \n",
        "                                                                                  val_data.edge_label_index.shape[1],\n",
        "                                                                                  test_data.edge_label_index.shape[1])"
      ],
      "metadata": {
        "colab": {
          "base_uri": "https://localhost:8080/"
        },
        "id": "c5O_NY7DjAFR",
        "outputId": "8eb43a1c-81cb-4aa9-b522-06c0a34040a2"
      },
      "execution_count": 7,
      "outputs": [
        {
          "output_type": "stream",
          "name": "stdout",
          "text": [
            "Number of the nodes in training, validation and test data are 2708 2708 2708\n",
            "Number of the edges in training, validation and test data are 7920 7920 8446\n",
            "Number of the edge_label_index in training, validation and test data are 3960 526 2110\n"
          ]
        }
      ]
    },
    {
      "cell_type": "markdown",
      "source": [
        "### Pipeline"
      ],
      "metadata": {
        "id": "psqGS5Qeb6k6"
      }
    },
    {
      "cell_type": "markdown",
      "source": [
        "We constructed the GCN by PyG in the last Colab, and now we simply use the same architecture:"
      ],
      "metadata": {
        "id": "PUlJKeqjjU1W"
      }
    },
    {
      "cell_type": "code",
      "source": [
        "from torch_geometric.nn import GCNConv\n",
        "\n",
        "class GCN(torch.nn.Module):\n",
        "    def __init__(self, in_channels, hidden_channels, out_channels):\n",
        "        super().__init__()\n",
        "\n",
        "        self.conv1 = GCNConv(in_channels, hidden_channels)\n",
        "        self.conv2 = GCNConv(hidden_channels, out_channels)\n",
        "        self.act = torch.nn.ReLU()\n",
        "\n",
        "    def forward(self, node_feature, edge_index):\n",
        "\n",
        "        output = self.conv1(node_feature, edge_index)\n",
        "        output = self.act(output)\n",
        "        output = self.conv2(output, edge_index)\n",
        "\n",
        "        return output"
      ],
      "metadata": {
        "id": "swSuk_b4kjJa"
      },
      "execution_count": 8,
      "outputs": []
    },
    {
      "cell_type": "markdown",
      "source": [
        "Initializing a GCN model:"
      ],
      "metadata": {
        "id": "ovbAm-sPr5vk"
      }
    },
    {
      "cell_type": "code",
      "source": [
        "model = GCN(dataset.num_features, hidden_channels=128, out_channels=64)"
      ],
      "metadata": {
        "id": "HGt4OLrbsJMd"
      },
      "execution_count": 9,
      "outputs": []
    },
    {
      "cell_type": "markdown",
      "source": [
        "Define an optimizer for model:"
      ],
      "metadata": {
        "id": "fR6hHZ13vEaX"
      }
    },
    {
      "cell_type": "code",
      "source": [
        "optimizer = torch.optim.Adam(params=model.parameters(), lr=0.01)"
      ],
      "metadata": {
        "id": "T0MlrXezvKKm"
      },
      "execution_count": 10,
      "outputs": []
    },
    {
      "cell_type": "markdown",
      "source": [
        "Similar as the what we do in the node classification task, we first apply the GCN model to produce the representation of each node in the graph. Usually we will use **inner product** to measure the similarity between two node representations to determine how likely it is for these two nodes to be connected."
      ],
      "metadata": {
        "id": "opuOJ1IylYwV"
      }
    },
    {
      "cell_type": "markdown",
      "source": [
        "#### Question 1\n",
        "\n",
        "Following the instruction and implement the function to calculate the inner product:"
      ],
      "metadata": {
        "id": "Gp6ggnEAnLU7"
      }
    },
    {
      "cell_type": "code",
      "source": [
        "def compute_similarity(node_embs, edge_index):\n",
        "    result = 0\n",
        "\n",
        "    # TODO: Define similarity function.\n",
        "    # 1. calculate the inner product between all the pairs in the edge_index\n",
        "    # Note: the shape of node_embs is [n, h] where n is the number of nodes, and h is the embedding size\n",
        "    # the shape of edge_index is [2, m] where m is the number of edges\n",
        "\n",
        "    ############# Your code here ############\n",
        "    ## (~1 line of code)\n",
        "    result = (node_embs[edge_index[0]] * node_embs[edge_index[1]]).sum(dim=-1)\n",
        "\n",
        "    #########################################\n",
        "\n",
        "    return result\n",
        "\n",
        "n, h = 5, 10  # number of nodes and embedding size\n",
        "node_embs = torch.rand(n, h)\n",
        "edge_index = torch.tensor([[0, 1, 2, 3], \n",
        "                           [2, 3, 0, 1]])  # compute the similarity of (0, 2), (1, 3), (2, 0), (3, 1)\n",
        "similarity = compute_similarity(node_embs, edge_index)\n",
        "print(\"Similairty:\", similarity)"
      ],
      "metadata": {
        "colab": {
          "base_uri": "https://localhost:8080/"
        },
        "id": "I8PPhqrnjULN",
        "outputId": "affb5ed7-a839-4167-db9d-ece461b9ea88"
      },
      "execution_count": 11,
      "outputs": [
        {
          "output_type": "stream",
          "name": "stdout",
          "text": [
            "Similairty: tensor([3.3457, 2.8319, 3.3457, 2.8319])\n"
          ]
        }
      ]
    },
    {
      "cell_type": "markdown",
      "source": [
        "We optimize the model by minimizing the loss function. Here we consider the link prediction task as a binary classification task (edge exists or no), and apply binary cross entropy loss:"
      ],
      "metadata": {
        "id": "XI4MF409nGmf"
      }
    },
    {
      "cell_type": "code",
      "source": [
        "loss_fn = torch.nn.BCEWithLogitsLoss()"
      ],
      "metadata": {
        "id": "CKENBKVlryb1"
      },
      "execution_count": 12,
      "outputs": []
    },
    {
      "cell_type": "markdown",
      "source": [
        "The edges in the graph will be taken as the positive examples with label=1 in the loss function. To prevent model from collapse, we usually will feed some **negative examples** to the loss function, which is the non-existing edges in the graph. The number of negative examples should equal to the number of positive ones."
      ],
      "metadata": {
        "id": "Egf8x3Uhs314"
      }
    },
    {
      "cell_type": "markdown",
      "source": [
        "With the help of PyG, we can easily perform the negative sampling. Here is an example:"
      ],
      "metadata": {
        "id": "8nkO6tjJuBc4"
      }
    },
    {
      "cell_type": "code",
      "source": [
        "from torch_geometric.utils import negative_sampling\n",
        "\n",
        "neg_edge_index = negative_sampling(\n",
        "      edge_index=train_data.edge_index,  # positive edges in the graph\n",
        "      num_nodes=train_data.num_nodes,  # number of nodes\n",
        "      num_neg_samples=5,  # number of negative examples\n",
        "    )\n",
        "\n",
        "print(\"shape of neg_edge_index:\", neg_edge_index.shape)  # [2, num_neg_samples]\n",
        "print(\"negative examples:\", neg_edge_index)"
      ],
      "metadata": {
        "colab": {
          "base_uri": "https://localhost:8080/"
        },
        "id": "yWc5xDRauO4n",
        "outputId": "07214078-32c6-409a-8811-bdd09221846a"
      },
      "execution_count": 13,
      "outputs": [
        {
          "output_type": "stream",
          "name": "stdout",
          "text": [
            "shape of neg_edge_index: torch.Size([2, 5])\n",
            "negative examples: tensor([[2365, 1419,  813,  906, 1595],\n",
            "        [1151,  844,   11, 1828, 1629]])\n"
          ]
        }
      ]
    },
    {
      "cell_type": "markdown",
      "source": [
        "Positive examples (`edge_label_index`) will be assigned the label 1, and negative ones will be assigned the label 0. We can obtain the label of positive examples like this:"
      ],
      "metadata": {
        "id": "Vc5IIVnawI4Q"
      }
    },
    {
      "cell_type": "code",
      "source": [
        "print(\"positive examples' labels:\", train_data.edge_label)"
      ],
      "metadata": {
        "colab": {
          "base_uri": "https://localhost:8080/"
        },
        "id": "R7pY2kaUEYv5",
        "outputId": "69d4d6c6-9df2-402d-93cc-80d8d0239fc9"
      },
      "execution_count": 14,
      "outputs": [
        {
          "output_type": "stream",
          "name": "stdout",
          "text": [
            "positive examples' labels: tensor([1., 1., 1.,  ..., 1., 1., 1.])\n"
          ]
        }
      ]
    },
    {
      "cell_type": "markdown",
      "source": [
        "Now we can construct training and testing pipeline, which is similar to what we do in the last Colab. "
      ],
      "metadata": {
        "id": "2e3WTj6UEXz9"
      }
    },
    {
      "cell_type": "markdown",
      "source": [
        "#### Question 2\n",
        "\n",
        "Please follow the instruction and implement a function that trains a model."
      ],
      "metadata": {
        "id": "KvQzDDHYwo8J"
      }
    },
    {
      "cell_type": "code",
      "source": [
        "def train(model, data, optimizer, loss_fn):\n",
        "\n",
        "    loss = 0\n",
        "\n",
        "    # TODO: Define train function.\n",
        "    # 1. put the model into train mode\n",
        "    # 2. clear the gradients calculated from the last batch\n",
        "    # 3. use 'edge_index' to get the node representation by model\n",
        "    # 4. sample the negative examples with the same number of positive ones (edge_label_index)\n",
        "    # 5. concatenate the positive edges and negative edges\n",
        "    # 6. concatenate the labels of positive edges and negative edges\n",
        "    # 7. calculate the similarity between two end nodes to determine the probability that the corresponding edge is present on the graph.\n",
        "    # 8. feed the probability and edge label to the loss function\n",
        "    # 9. calculate the gradients of each parameter\n",
        "    # 10. update the parameters by taking an optimizer step\n",
        "\n",
        "    ############# Your code here ############\n",
        "    ## (~10 line of code)\n",
        "\n",
        "    model.train()\n",
        "    optimizer.zero_grad()\n",
        "    z = model(data.x, data.edge_index)\n",
        "\n",
        "    neg_edge_index = negative_sampling(\n",
        "        edge_index=train_data.edge_index, num_nodes=train_data.num_nodes,\n",
        "        num_neg_samples=train_data.edge_label_index.size(1))\n",
        "\n",
        "    edge_label_index = torch.cat(\n",
        "        [train_data.edge_label_index, neg_edge_index],\n",
        "        dim=-1,\n",
        "    )\n",
        "    edge_label = torch.cat([\n",
        "        train_data.edge_label,\n",
        "        train_data.edge_label.new_zeros(neg_edge_index.size(1))\n",
        "    ], dim=0)\n",
        "\n",
        "    out = compute_similarity(z, edge_label_index).view(-1)\n",
        "    loss = loss_fn(out, edge_label)\n",
        "    loss.backward()\n",
        "    optimizer.step()\n",
        "\n",
        "    #########################################\n",
        "\n",
        "    return loss"
      ],
      "metadata": {
        "id": "HrkHekHbxASw"
      },
      "execution_count": 15,
      "outputs": []
    },
    {
      "cell_type": "markdown",
      "source": [
        "We usually use [AUC score](https://scikit-learn.org/stable/modules/generated/sklearn.metrics.roc_auc_score.html) to evaluate the performance of model on binary classification task. The test function is as followed:"
      ],
      "metadata": {
        "id": "WtMJFkVLW3E6"
      }
    },
    {
      "cell_type": "code",
      "source": [
        "from sklearn.metrics import roc_auc_score\n",
        "\n",
        "@torch.no_grad()\n",
        "def test(model, data):\n",
        "    model.eval()\n",
        "    out = model(data.x, data.edge_index)  # use `edge_index` to perform message passing\n",
        "    out = compute_similarity(out, data.edge_label_index).view(-1).sigmoid()  # use `edge_label_index` to compute the loss\n",
        "    return roc_auc_score(data.edge_label.cpu().numpy(), out.cpu().numpy())"
      ],
      "metadata": {
        "id": "BmJ2ZDl4W3b0"
      },
      "execution_count": 16,
      "outputs": []
    },
    {
      "cell_type": "markdown",
      "source": [
        "Now we can start to train our model based on `train` and `test` function:"
      ],
      "metadata": {
        "id": "HVnVcrJrX6xc"
      }
    },
    {
      "cell_type": "code",
      "source": [
        "epochs = 50\n",
        "\n",
        "best_val_auc = final_test_auc = 0\n",
        "for epoch in range(1, epochs + 1):\n",
        "    loss = train(model, train_data, optimizer, loss_fn)\n",
        "    valid_auc = test(model, val_data)\n",
        "    test_auc = test(model, test_data)\n",
        "    if valid_auc > best_val_auc:\n",
        "        best_val_auc = valid_auc\n",
        "        final_test_auc = test_auc\n",
        "    print(f'Epoch: {epoch:03d}, Loss: {loss:.4f}, Val: {valid_auc:.4f}, Test: {test_auc:.4f}')"
      ],
      "metadata": {
        "id": "5KobDKiwYETN",
        "outputId": "55ffd4b1-ceed-465a-f0f5-dcd0164e2398",
        "colab": {
          "base_uri": "https://localhost:8080/"
        }
      },
      "execution_count": 17,
      "outputs": [
        {
          "output_type": "stream",
          "name": "stdout",
          "text": [
            "Epoch: 001, Loss: 0.6632, Val: 0.8504, Test: 0.8369\n",
            "Epoch: 002, Loss: 0.6381, Val: 0.6999, Test: 0.6969\n",
            "Epoch: 003, Loss: 1.5263, Val: 0.9054, Test: 0.8929\n",
            "Epoch: 004, Loss: 0.5584, Val: 0.8030, Test: 0.7854\n",
            "Epoch: 005, Loss: 0.7610, Val: 0.8216, Test: 0.8135\n",
            "Epoch: 006, Loss: 0.6849, Val: 0.8620, Test: 0.8621\n",
            "Epoch: 007, Loss: 0.6117, Val: 0.8799, Test: 0.8858\n",
            "Epoch: 008, Loss: 0.6113, Val: 0.8828, Test: 0.8911\n",
            "Epoch: 009, Loss: 0.6210, Val: 0.8811, Test: 0.8889\n",
            "Epoch: 010, Loss: 0.6227, Val: 0.8798, Test: 0.8864\n",
            "Epoch: 011, Loss: 0.6140, Val: 0.8804, Test: 0.8830\n",
            "Epoch: 012, Loss: 0.6009, Val: 0.8796, Test: 0.8791\n",
            "Epoch: 013, Loss: 0.5887, Val: 0.8824, Test: 0.8776\n",
            "Epoch: 014, Loss: 0.5773, Val: 0.8899, Test: 0.8811\n",
            "Epoch: 015, Loss: 0.5696, Val: 0.8949, Test: 0.8847\n",
            "Epoch: 016, Loss: 0.5486, Val: 0.8942, Test: 0.8862\n",
            "Epoch: 017, Loss: 0.5290, Val: 0.8937, Test: 0.8881\n",
            "Epoch: 018, Loss: 0.5103, Val: 0.8955, Test: 0.8907\n",
            "Epoch: 019, Loss: 0.5005, Val: 0.8982, Test: 0.8942\n",
            "Epoch: 020, Loss: 0.4877, Val: 0.9007, Test: 0.8982\n",
            "Epoch: 021, Loss: 0.4773, Val: 0.9027, Test: 0.9020\n",
            "Epoch: 022, Loss: 0.4758, Val: 0.9045, Test: 0.9060\n",
            "Epoch: 023, Loss: 0.4731, Val: 0.9054, Test: 0.9096\n",
            "Epoch: 024, Loss: 0.4696, Val: 0.9056, Test: 0.9124\n",
            "Epoch: 025, Loss: 0.4662, Val: 0.9077, Test: 0.9154\n",
            "Epoch: 026, Loss: 0.4611, Val: 0.9098, Test: 0.9179\n",
            "Epoch: 027, Loss: 0.4614, Val: 0.9124, Test: 0.9202\n",
            "Epoch: 028, Loss: 0.4545, Val: 0.9145, Test: 0.9219\n",
            "Epoch: 029, Loss: 0.4557, Val: 0.9158, Test: 0.9230\n",
            "Epoch: 030, Loss: 0.4514, Val: 0.9171, Test: 0.9240\n",
            "Epoch: 031, Loss: 0.4514, Val: 0.9175, Test: 0.9248\n",
            "Epoch: 032, Loss: 0.4478, Val: 0.9169, Test: 0.9253\n",
            "Epoch: 033, Loss: 0.4376, Val: 0.9168, Test: 0.9257\n",
            "Epoch: 034, Loss: 0.4425, Val: 0.9172, Test: 0.9268\n",
            "Epoch: 035, Loss: 0.4418, Val: 0.9183, Test: 0.9279\n",
            "Epoch: 036, Loss: 0.4378, Val: 0.9194, Test: 0.9289\n",
            "Epoch: 037, Loss: 0.4359, Val: 0.9206, Test: 0.9296\n",
            "Epoch: 038, Loss: 0.4350, Val: 0.9205, Test: 0.9303\n",
            "Epoch: 039, Loss: 0.4333, Val: 0.9210, Test: 0.9310\n",
            "Epoch: 040, Loss: 0.4306, Val: 0.9218, Test: 0.9312\n",
            "Epoch: 041, Loss: 0.4277, Val: 0.9224, Test: 0.9314\n",
            "Epoch: 042, Loss: 0.4270, Val: 0.9231, Test: 0.9314\n",
            "Epoch: 043, Loss: 0.4214, Val: 0.9235, Test: 0.9315\n",
            "Epoch: 044, Loss: 0.4318, Val: 0.9238, Test: 0.9316\n",
            "Epoch: 045, Loss: 0.4203, Val: 0.9245, Test: 0.9319\n",
            "Epoch: 046, Loss: 0.4204, Val: 0.9254, Test: 0.9323\n",
            "Epoch: 047, Loss: 0.4251, Val: 0.9261, Test: 0.9326\n",
            "Epoch: 048, Loss: 0.4210, Val: 0.9265, Test: 0.9327\n",
            "Epoch: 049, Loss: 0.4111, Val: 0.9265, Test: 0.9328\n",
            "Epoch: 050, Loss: 0.4215, Val: 0.9264, Test: 0.9326\n"
          ]
        }
      ]
    },
    {
      "cell_type": "markdown",
      "source": [
        "\n",
        "## Graph classification task"
      ],
      "metadata": {
        "id": "0A7uj8bpafg6"
      }
    },
    {
      "cell_type": "markdown",
      "source": [
        "Now let's have a closer look at the task of graph classification. Graph classification refers to the problem of classifiying entire graphs, given a dataset of graphs. Here, we will apply GNN to embed entire graphs."
      ],
      "metadata": {
        "id": "_r3OuSUAbZDx"
      }
    },
    {
      "cell_type": "markdown",
      "source": [
        "### Dataset preprocess"
      ],
      "metadata": {
        "id": "iOANEzePcERl"
      }
    },
    {
      "cell_type": "markdown",
      "source": [
        "One of the most common benchmark dataset of graph classification is [TUDatasets](https://chrsmrrs.github.io/datasets/) which are collected by TU Dortmund University. Each graph in this dataset is a molecule, and the task is to infer whether a molecule inhibits HIV virus replication or not. We can load this dataset by PyG. In this colab, we mainly focus on one of the smaller ones in TUDatasets: MUTAG dataset.\n"
      ],
      "metadata": {
        "id": "WuqoDa8UcH00"
      }
    },
    {
      "cell_type": "code",
      "source": [
        "from torch_geometric.datasets import TUDataset\n",
        "\n",
        "dataset = TUDataset(root='/tmp/mutag', name='MUTAG')\n",
        "print(dataset)"
      ],
      "metadata": {
        "colab": {
          "base_uri": "https://localhost:8080/"
        },
        "id": "erIjhtmKdWI0",
        "outputId": "a62d2971-65e9-420f-eee0-ec974881466a"
      },
      "execution_count": 18,
      "outputs": [
        {
          "output_type": "stream",
          "name": "stderr",
          "text": [
            "Downloading https://www.chrsmrrs.com/graphkerneldatasets/MUTAG.zip\n"
          ]
        },
        {
          "output_type": "stream",
          "name": "stdout",
          "text": [
            "MUTAG(188)\n"
          ]
        },
        {
          "output_type": "stream",
          "name": "stderr",
          "text": [
            "Extracting /tmp/mutag/MUTAG/MUTAG.zip\n",
            "Processing...\n",
            "Done!\n"
          ]
        }
      ]
    },
    {
      "cell_type": "markdown",
      "source": [
        "We can obtain its number of graphs, classes, node features:"
      ],
      "metadata": {
        "id": "1jZspaJCfPVv"
      }
    },
    {
      "cell_type": "code",
      "source": [
        "print(f'number of graphs: {len(dataset)}')\n",
        "print(f'number of classes: {dataset.num_classes}')\n",
        "print(f'Number of node features: {dataset.num_node_features}')"
      ],
      "metadata": {
        "colab": {
          "base_uri": "https://localhost:8080/"
        },
        "id": "XLzBwZEAfVT_",
        "outputId": "2bca7c29-2249-491d-fb77-a91c5a07c222"
      },
      "execution_count": 19,
      "outputs": [
        {
          "output_type": "stream",
          "name": "stdout",
          "text": [
            "number of graphs: 188\n",
            "number of classes: 2\n",
            "Number of node features: 7\n"
          ]
        }
      ]
    },
    {
      "cell_type": "markdown",
      "source": [
        "There 188 graphs in this dataset, and we can get the graph object with any id. For example:"
      ],
      "metadata": {
        "id": "LS6YH122fgnW"
      }
    },
    {
      "cell_type": "code",
      "source": [
        "data = dataset[5]\n",
        "print(f'5-th graph object: {data}')"
      ],
      "metadata": {
        "colab": {
          "base_uri": "https://localhost:8080/"
        },
        "id": "o_4eCBBEffKn",
        "outputId": "cc5ca999-f61c-43a9-a2cc-710c6b418fb7"
      },
      "execution_count": 20,
      "outputs": [
        {
          "output_type": "stream",
          "name": "stdout",
          "text": [
            "5-th graph object: Data(edge_index=[2, 62], x=[28, 7], edge_attr=[62, 4], y=[1])\n"
          ]
        }
      ]
    },
    {
      "cell_type": "markdown",
      "source": [
        "We can obtain some statistics for each graph object:"
      ],
      "metadata": {
        "id": "vGsCcaZKgOd_"
      }
    },
    {
      "cell_type": "code",
      "source": [
        "print(f'Number of nodes: {data.num_nodes}')\n",
        "print(f'Number of edges: {data.num_edges}')\n",
        "print(f'Average node degree: {data.num_edges / data.num_nodes:.2f}')\n",
        "print(f'Has isolated nodes: {data.has_isolated_nodes()}')\n",
        "print(f'Has self-loops: {data.has_self_loops()}')\n",
        "print(f'Is undirected: {data.is_undirected()}')"
      ],
      "metadata": {
        "colab": {
          "base_uri": "https://localhost:8080/"
        },
        "id": "3IW8xPTEgWo9",
        "outputId": "d02112d1-b993-4058-b9e8-fa53fb57c09e"
      },
      "execution_count": 21,
      "outputs": [
        {
          "output_type": "stream",
          "name": "stdout",
          "text": [
            "Number of nodes: 28\n",
            "Number of edges: 62\n",
            "Average node degree: 2.21\n",
            "Has isolated nodes: False\n",
            "Has self-loops: False\n",
            "Is undirected: True\n"
          ]
        }
      ]
    },
    {
      "cell_type": "markdown",
      "source": [
        "We will divide the dataset into training set and test set, and there is no duplicate graph in these two sets. We can randomly pick 150 graphs to form training set, and the remaining ones will be the test set:"
      ],
      "metadata": {
        "id": "Fo4TRMIVgzJx"
      }
    },
    {
      "cell_type": "code",
      "source": [
        "dataset = dataset.shuffle()\n",
        "\n",
        "train_dataset = dataset[:150]\n",
        "test_dataset = dataset[150:]"
      ],
      "metadata": {
        "id": "DCFqWOJXfNGm"
      },
      "execution_count": 22,
      "outputs": []
    },
    {
      "cell_type": "markdown",
      "source": [
        "### Mini-batching of graphs\n",
        "\n",
        "To fully utilize GPU, we will conduct mini-batch training which can be achieved by PyG. A batch of graphs will be grouped in a giant graph that holds multiple isolated subgraphs, and node features are simply concatenated. `dataloader` object in PyG can easily finish the aboved process:"
      ],
      "metadata": {
        "id": "VqPcXR7OiDjJ"
      }
    },
    {
      "cell_type": "code",
      "source": [
        "from torch_geometric.loader import DataLoader\n",
        "\n",
        "train_loader = DataLoader(train_dataset, batch_size=128, shuffle=True)\n",
        "test_loader = DataLoader(test_dataset, batch_size=128, shuffle=False)"
      ],
      "metadata": {
        "id": "aZcvdFUyiD5C"
      },
      "execution_count": 23,
      "outputs": []
    },
    {
      "cell_type": "markdown",
      "source": [
        "Here is an example to show how dataloader works. We can observe that multiple graphs are included in a giant graph."
      ],
      "metadata": {
        "id": "Np8XY1awjsu7"
      }
    },
    {
      "cell_type": "code",
      "source": [
        "for step, data in enumerate(train_loader):\n",
        "    print(f'Step {step + 1}, number of graphs in the current batch: {data.num_graphs}')\n",
        "    print(f'Step {step + 1}, number of nodes in the current batch: {data.num_nodes}')\n",
        "    print(f'Step {step + 1}, the graph id to which each node belongs is: {data.batch}')\n",
        "    print()"
      ],
      "metadata": {
        "colab": {
          "base_uri": "https://localhost:8080/"
        },
        "id": "zXFQf-Kajs5U",
        "outputId": "a8a19f4c-9752-41e7-aaef-c27d4ff77d7a"
      },
      "execution_count": 24,
      "outputs": [
        {
          "output_type": "stream",
          "name": "stdout",
          "text": [
            "Step 1, number of graphs in the current batch: 128\n",
            "Step 1, number of nodes in the current batch: 2347\n",
            "Step 1, the graph id to which each node belongs is: tensor([  0,   0,   0,  ..., 127, 127, 127])\n",
            "\n",
            "Step 2, number of graphs in the current batch: 22\n",
            "Step 2, number of nodes in the current batch: 363\n",
            "Step 2, the graph id to which each node belongs is: tensor([ 0,  0,  0,  0,  0,  0,  0,  0,  0,  0,  0,  0,  0,  0,  1,  1,  1,  1,\n",
            "         1,  1,  1,  1,  1,  1,  1,  1,  2,  2,  2,  2,  2,  2,  2,  2,  2,  2,\n",
            "         2,  2,  2,  2,  2,  2,  2,  2,  2,  2,  3,  3,  3,  3,  3,  3,  3,  3,\n",
            "         3,  3,  3,  3,  3,  4,  4,  4,  4,  4,  4,  4,  4,  4,  4,  4,  4,  4,\n",
            "         4,  4,  4,  5,  5,  5,  5,  5,  5,  5,  5,  5,  5,  5,  5,  5,  5,  5,\n",
            "         5,  5,  5,  5,  5,  5,  5,  5,  5,  5,  5,  5,  5,  6,  6,  6,  6,  6,\n",
            "         6,  6,  6,  6,  6,  6,  6,  6,  6,  6,  6,  6,  6,  6,  7,  7,  7,  7,\n",
            "         7,  7,  7,  7,  7,  7,  7,  8,  8,  8,  8,  8,  8,  8,  8,  8,  8,  8,\n",
            "         9,  9,  9,  9,  9,  9,  9,  9,  9,  9,  9,  9,  9,  9,  9,  9, 10, 10,\n",
            "        10, 10, 10, 10, 10, 10, 10, 10, 10, 10, 11, 11, 11, 11, 11, 11, 11, 11,\n",
            "        11, 11, 11, 11, 11, 11, 11, 11, 12, 12, 12, 12, 12, 12, 12, 12, 12, 12,\n",
            "        12, 13, 13, 13, 13, 13, 13, 13, 13, 13, 13, 13, 13, 14, 14, 14, 14, 14,\n",
            "        14, 14, 14, 14, 14, 14, 14, 14, 14, 14, 14, 14, 14, 14, 14, 15, 15, 15,\n",
            "        15, 15, 15, 15, 15, 15, 15, 15, 15, 15, 15, 15, 15, 15, 15, 15, 16, 16,\n",
            "        16, 16, 16, 16, 16, 16, 16, 16, 16, 16, 16, 16, 16, 16, 16, 16, 16, 17,\n",
            "        17, 17, 17, 17, 17, 17, 17, 17, 17, 17, 17, 17, 17, 17, 17, 18, 18, 18,\n",
            "        18, 18, 18, 18, 18, 18, 18, 18, 18, 18, 18, 18, 18, 18, 18, 18, 18, 18,\n",
            "        18, 18, 18, 19, 19, 19, 19, 19, 19, 19, 19, 19, 19, 19, 19, 19, 19, 19,\n",
            "        19, 19, 19, 20, 20, 20, 20, 20, 20, 20, 20, 20, 20, 20, 20, 20, 21, 21,\n",
            "        21, 21, 21, 21, 21, 21, 21, 21, 21, 21, 21, 21, 21, 21, 21, 21, 21, 21,\n",
            "        21, 21, 21])\n",
            "\n"
          ]
        }
      ]
    },
    {
      "cell_type": "markdown",
      "source": [
        "The graph id of every node to which it belongs is indicated by the `batch` attribute. "
      ],
      "metadata": {
        "id": "_ausNnEEnHht"
      }
    },
    {
      "cell_type": "markdown",
      "source": [
        "### Model Implementation"
      ],
      "metadata": {
        "id": "DfPNmyVpkLzy"
      }
    },
    {
      "cell_type": "markdown",
      "source": [
        "First we perform message passing to embed each node in the graph, then aggregate the node embeddings into a graph embedding by pooling method. Finally the graph embedding will be fed to a classifier to conduct graph classification."
      ],
      "metadata": {
        "id": "aTegmb0AkWm4"
      }
    },
    {
      "cell_type": "markdown",
      "source": [
        "We will apply mean pooling method which is to simply take the average of node embeddings. Here is an example of mean pooling:"
      ],
      "metadata": {
        "id": "RQB62WXul52B"
      }
    },
    {
      "cell_type": "code",
      "source": [
        "from torch_geometric.nn import global_mean_pool\n",
        "\n",
        "x = torch.rand(5, 4)  # embeddings of 5 nodes\n",
        "\n",
        "# graph id. The first two nodes belong to first graph, \n",
        "# the 3rd node belongs to the second graph, \n",
        "# and the last two nodes belong to the last graph\n",
        "batch = torch.tensor([0, 0, 1, 2, 2])\n",
        "\n",
        "x = global_mean_pool(x, batch)  # node embedding and the graph id to which each node belongs to\n",
        "print(f\"shape of graph embedding: {x.shape}\")"
      ],
      "metadata": {
        "colab": {
          "base_uri": "https://localhost:8080/"
        },
        "id": "hOmohxHBnf5g",
        "outputId": "b0f144c3-1d06-4b48-b32e-480cfab8dcbc"
      },
      "execution_count": 25,
      "outputs": [
        {
          "output_type": "stream",
          "name": "stdout",
          "text": [
            "shape of graph embedding: torch.Size([3, 4])\n"
          ]
        }
      ]
    },
    {
      "cell_type": "markdown",
      "source": [
        "#### Question 3\n",
        "\n",
        "Follow the instruments and implement the GNN model for graph classifiation task."
      ],
      "metadata": {
        "id": "kLhkQW_snfTi"
      }
    },
    {
      "cell_type": "code",
      "source": [
        "from torch.nn import Linear\n",
        "import torch.nn.functional as F\n",
        "from torch_geometric.nn import GCNConv\n",
        "from torch_geometric.nn import global_mean_pool\n",
        "\n",
        "\n",
        "class GCN(torch.nn.Module):\n",
        "    def __init__(self, in_channels, hidden_channels, out_channels):\n",
        "        super(GCN, self).__init__()\n",
        "        \n",
        "        # TODO: Define two GCNConv modules, a linear classifier and a ReLU function.\n",
        "        # The input size and output size of first GCNConv module should be in_channels and hidden_channels\n",
        "        # The input size and output size of second GCNConv module should be hidden_channels and hidden_channels\n",
        "        # The input size and output size of Linear module should be hidden_channels and out_channels\n",
        "\n",
        "        ############# Your code here ############\n",
        "        ## (~4 line of code)\n",
        "\n",
        "        self.conv1 = GCNConv(in_channels, hidden_channels)\n",
        "        self.conv2 = GCNConv(hidden_channels, hidden_channels)\n",
        "        self.act = torch.nn.ReLU()\n",
        "        self.lin = Linear(hidden_channels, out_channels)\n",
        "\n",
        "        #########################################\n",
        "\n",
        "    def forward(self, x, edge_index, batch):\n",
        "\n",
        "        output = None\n",
        "\n",
        "        # TODO: Use the modules you define in __init__ to perform message passing.\n",
        "        # ReLU function should be used in the middle of two GCNConv modules.\n",
        "        # Apply global_mean_pool module to generate graph embeddings\n",
        "        # Apply linear classifier to predict the label\n",
        "\n",
        "        ############# Your code here ############\n",
        "        ## (~3 line of code)\n",
        "\n",
        "        # 1. Obtain node embeddings \n",
        "        x = self.conv1(x, edge_index)\n",
        "        x = self.act(x)\n",
        "        x = self.conv2(x, edge_index)\n",
        "\n",
        "        x = global_mean_pool(x, batch)  # [batch_size, hidden_channels]\n",
        "\n",
        "        output = self.lin(x)\n",
        "        \n",
        "        #########################################\n",
        "        return output"
      ],
      "metadata": {
        "id": "uRE65qt9kWAa"
      },
      "execution_count": 26,
      "outputs": []
    },
    {
      "cell_type": "markdown",
      "source": [
        "Initialize a model and optimizer:"
      ],
      "metadata": {
        "id": "BPLISSNmqADH"
      }
    },
    {
      "cell_type": "code",
      "source": [
        "model = GCN(in_channels=dataset.num_node_features, hidden_channels=64, out_channels=dataset.num_classes)\n",
        "optimizer = torch.optim.Adam(model.parameters(), lr=0.01)\n",
        "print(model)"
      ],
      "metadata": {
        "colab": {
          "base_uri": "https://localhost:8080/"
        },
        "id": "gYcwKQg_qE_z",
        "outputId": "30226b94-5e31-45be-f285-de3aea93f39b"
      },
      "execution_count": 27,
      "outputs": [
        {
          "output_type": "stream",
          "name": "stdout",
          "text": [
            "GCN(\n",
            "  (conv1): GCNConv(7, 64)\n",
            "  (conv2): GCNConv(64, 64)\n",
            "  (act): ReLU()\n",
            "  (lin): Linear(in_features=64, out_features=2, bias=True)\n",
            ")\n"
          ]
        }
      ]
    },
    {
      "cell_type": "markdown",
      "source": [
        "### Pipeline"
      ],
      "metadata": {
        "id": "fbvsHLktp9Tm"
      }
    },
    {
      "cell_type": "markdown",
      "source": [
        "Here we use cross entropy loss to optimize:"
      ],
      "metadata": {
        "id": "5w4EGjWQkL79"
      }
    },
    {
      "cell_type": "code",
      "source": [
        "loss_func = torch.nn.CrossEntropyLoss()"
      ],
      "metadata": {
        "id": "vR5ptDOgrBSv"
      },
      "execution_count": 28,
      "outputs": []
    },
    {
      "cell_type": "markdown",
      "source": [
        "#### Question 4\n",
        "\n",
        "Now we are going to implement `train` function. Please follow the instrution:"
      ],
      "metadata": {
        "id": "o_v2Bx7ArDV9"
      }
    },
    {
      "cell_type": "code",
      "source": [
        "def train(model, loader, optimizer, loss_func):\n",
        "\n",
        "    loss = 0\n",
        "\n",
        "    # TODO: Define train function.\n",
        "    # 1. put the model into train mode\n",
        "    # 2. iterate over the dataloader\n",
        "    # 3. obtain the predicted result by model\n",
        "    # 4. compute the loss\n",
        "    # 5. loss backward\n",
        "    # 6. update the parameters by taking an optimizer step\n",
        "    # 7. clear the gradients calculated from the last batch\n",
        "\n",
        "    ############# Your code here ############\n",
        "    ## (~7 line of code)\n",
        "\n",
        "    model.train()\n",
        "\n",
        "    for data in loader:  # Iterate in batches over the training dataset.\n",
        "         out = model(data.x, data.edge_index, data.batch)  # Perform a single forward pass.\n",
        "         loss = loss_func(out, data.y)  # Compute the loss.\n",
        "         loss.backward()  # Derive gradients.\n",
        "         optimizer.step()  # Update parameters based on gradients.\n",
        "         optimizer.zero_grad()  # Clear gradients.\n",
        "\n",
        "    #########################################\n",
        "\n",
        "    return model"
      ],
      "metadata": {
        "id": "cRaylYrZrDg3"
      },
      "execution_count": 29,
      "outputs": []
    },
    {
      "cell_type": "markdown",
      "source": [
        "The `test` function is implemented as followed:"
      ],
      "metadata": {
        "id": "a6U8O4zoxEAd"
      }
    },
    {
      "cell_type": "code",
      "source": [
        "def test(model, loader):\n",
        "     model.eval()\n",
        "\n",
        "     correct = 0\n",
        "     for data in loader:  # Iterate in batches over the training/test dataset.\n",
        "         out = model(data.x, data.edge_index, data.batch)  \n",
        "         pred = out.argmax(dim=1)  # Use the class with highest probability.\n",
        "         correct += int((pred == data.y).sum())  # Check against ground-truth labels.\n",
        "     return correct / len(loader.dataset)  # Derive ratio of correct predictions."
      ],
      "metadata": {
        "id": "fmZVylz8xIqZ"
      },
      "execution_count": 30,
      "outputs": []
    },
    {
      "cell_type": "markdown",
      "source": [
        "Now we can train and evaluate our model on graph classification task:\n"
      ],
      "metadata": {
        "id": "23Y4SPWXxObL"
      }
    },
    {
      "cell_type": "code",
      "source": [
        "epochs = 100\n",
        "\n",
        "for epoch in range(1, epochs):\n",
        "    model = train(model, train_loader, optimizer, loss_func)\n",
        "    test_acc = test(model, test_loader)\n",
        "    print(f'Epoch: {epoch:03d}, Test Acc: {test_acc:.4f}')"
      ],
      "metadata": {
        "id": "eYJ_h_83xS4o",
        "outputId": "a4b94d9c-41fc-4e9e-f0e8-200a74d1ca08",
        "colab": {
          "base_uri": "https://localhost:8080/"
        }
      },
      "execution_count": 31,
      "outputs": [
        {
          "output_type": "stream",
          "name": "stdout",
          "text": [
            "Epoch: 001, Test Acc: 0.6053\n",
            "Epoch: 002, Test Acc: 0.6053\n",
            "Epoch: 003, Test Acc: 0.6053\n",
            "Epoch: 004, Test Acc: 0.6053\n",
            "Epoch: 005, Test Acc: 0.6053\n",
            "Epoch: 006, Test Acc: 0.6053\n",
            "Epoch: 007, Test Acc: 0.6053\n",
            "Epoch: 008, Test Acc: 0.6053\n",
            "Epoch: 009, Test Acc: 0.6053\n",
            "Epoch: 010, Test Acc: 0.6053\n",
            "Epoch: 011, Test Acc: 0.6053\n",
            "Epoch: 012, Test Acc: 0.7105\n",
            "Epoch: 013, Test Acc: 0.7105\n",
            "Epoch: 014, Test Acc: 0.7105\n",
            "Epoch: 015, Test Acc: 0.6316\n",
            "Epoch: 016, Test Acc: 0.7105\n",
            "Epoch: 017, Test Acc: 0.7105\n",
            "Epoch: 018, Test Acc: 0.7632\n",
            "Epoch: 019, Test Acc: 0.7105\n",
            "Epoch: 020, Test Acc: 0.6842\n",
            "Epoch: 021, Test Acc: 0.7105\n",
            "Epoch: 022, Test Acc: 0.7105\n",
            "Epoch: 023, Test Acc: 0.7105\n",
            "Epoch: 024, Test Acc: 0.7105\n",
            "Epoch: 025, Test Acc: 0.7105\n",
            "Epoch: 026, Test Acc: 0.7105\n",
            "Epoch: 027, Test Acc: 0.7368\n",
            "Epoch: 028, Test Acc: 0.7105\n",
            "Epoch: 029, Test Acc: 0.7368\n",
            "Epoch: 030, Test Acc: 0.7895\n",
            "Epoch: 031, Test Acc: 0.7368\n",
            "Epoch: 032, Test Acc: 0.7105\n",
            "Epoch: 033, Test Acc: 0.7105\n",
            "Epoch: 034, Test Acc: 0.6579\n",
            "Epoch: 035, Test Acc: 0.7105\n",
            "Epoch: 036, Test Acc: 0.7105\n",
            "Epoch: 037, Test Acc: 0.7368\n",
            "Epoch: 038, Test Acc: 0.7368\n",
            "Epoch: 039, Test Acc: 0.7105\n",
            "Epoch: 040, Test Acc: 0.8158\n",
            "Epoch: 041, Test Acc: 0.7632\n",
            "Epoch: 042, Test Acc: 0.7105\n",
            "Epoch: 043, Test Acc: 0.7368\n",
            "Epoch: 044, Test Acc: 0.6842\n",
            "Epoch: 045, Test Acc: 0.7105\n",
            "Epoch: 046, Test Acc: 0.7895\n",
            "Epoch: 047, Test Acc: 0.7895\n",
            "Epoch: 048, Test Acc: 0.6842\n",
            "Epoch: 049, Test Acc: 0.6579\n",
            "Epoch: 050, Test Acc: 0.7105\n",
            "Epoch: 051, Test Acc: 0.7105\n",
            "Epoch: 052, Test Acc: 0.7105\n",
            "Epoch: 053, Test Acc: 0.7895\n",
            "Epoch: 054, Test Acc: 0.7895\n",
            "Epoch: 055, Test Acc: 0.7368\n",
            "Epoch: 056, Test Acc: 0.6579\n",
            "Epoch: 057, Test Acc: 0.7105\n",
            "Epoch: 058, Test Acc: 0.6579\n",
            "Epoch: 059, Test Acc: 0.7105\n",
            "Epoch: 060, Test Acc: 0.6579\n",
            "Epoch: 061, Test Acc: 0.6579\n",
            "Epoch: 062, Test Acc: 0.6579\n",
            "Epoch: 063, Test Acc: 0.6579\n",
            "Epoch: 064, Test Acc: 0.6579\n",
            "Epoch: 065, Test Acc: 0.7105\n",
            "Epoch: 066, Test Acc: 0.6579\n",
            "Epoch: 067, Test Acc: 0.7105\n",
            "Epoch: 068, Test Acc: 0.7105\n",
            "Epoch: 069, Test Acc: 0.6842\n",
            "Epoch: 070, Test Acc: 0.7105\n",
            "Epoch: 071, Test Acc: 0.7368\n",
            "Epoch: 072, Test Acc: 0.6579\n",
            "Epoch: 073, Test Acc: 0.7368\n",
            "Epoch: 074, Test Acc: 0.7368\n",
            "Epoch: 075, Test Acc: 0.7105\n",
            "Epoch: 076, Test Acc: 0.6842\n",
            "Epoch: 077, Test Acc: 0.7368\n",
            "Epoch: 078, Test Acc: 0.6579\n",
            "Epoch: 079, Test Acc: 0.7105\n",
            "Epoch: 080, Test Acc: 0.6579\n",
            "Epoch: 081, Test Acc: 0.7895\n",
            "Epoch: 082, Test Acc: 0.8158\n",
            "Epoch: 083, Test Acc: 0.7895\n",
            "Epoch: 084, Test Acc: 0.6579\n",
            "Epoch: 085, Test Acc: 0.7105\n",
            "Epoch: 086, Test Acc: 0.7368\n",
            "Epoch: 087, Test Acc: 0.7105\n",
            "Epoch: 088, Test Acc: 0.7105\n",
            "Epoch: 089, Test Acc: 0.7895\n",
            "Epoch: 090, Test Acc: 0.7895\n",
            "Epoch: 091, Test Acc: 0.6842\n",
            "Epoch: 092, Test Acc: 0.6579\n",
            "Epoch: 093, Test Acc: 0.6579\n",
            "Epoch: 094, Test Acc: 0.7368\n",
            "Epoch: 095, Test Acc: 0.7895\n",
            "Epoch: 096, Test Acc: 0.7895\n",
            "Epoch: 097, Test Acc: 0.7895\n",
            "Epoch: 098, Test Acc: 0.7105\n",
            "Epoch: 099, Test Acc: 0.6579\n"
          ]
        }
      ]
    },
    {
      "cell_type": "markdown",
      "metadata": {
        "id": "cb7pp6W7-WJ2"
      },
      "source": [
        "## Submission\n",
        "\n",
        "Make sure to run all the cells and save a copy of this colab in your driver. If you complete this notebook, download the colab and upload your work to canvas to submit it."
      ]
    }
  ],
  "metadata": {
    "colab": {
      "collapsed_sections": [
        "VWhUwO_-mL2s",
        "cb7pp6W7-WJ2"
      ],
      "provenance": [],
      "toc_visible": true,
      "include_colab_link": true
    },
    "kernelspec": {
      "display_name": "Python 3",
      "language": "python",
      "name": "python3"
    },
    "language_info": {
      "codemirror_mode": {
        "name": "ipython",
        "version": 3
      },
      "file_extension": ".py",
      "mimetype": "text/x-python",
      "name": "python",
      "nbconvert_exporter": "python",
      "pygments_lexer": "ipython3",
      "version": "3.7.3"
    }
  },
  "nbformat": 4,
  "nbformat_minor": 0
}