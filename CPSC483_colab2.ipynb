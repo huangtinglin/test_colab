{
  "cells": [
    {
      "cell_type": "markdown",
      "metadata": {
        "id": "view-in-github",
        "colab_type": "text"
      },
      "source": [
        "<a href=\"https://colab.research.google.com/github/huangtinglin/test_colab/blob/main/CPSC483_colab2.ipynb\" target=\"_parent\"><img src=\"https://colab.research.google.com/assets/colab-badge.svg\" alt=\"Open In Colab\"/></a>"
      ]
    },
    {
      "cell_type": "markdown",
      "metadata": {
        "id": "VWhUwO_-mL2s"
      },
      "source": [
        "## GNN for link prediction and graph classification task\n",
        "\n",
        "Last time we explore a standard benchmark datase Cora, and implement a classic graph neural network GCN(Kipf et al. (2017)) for node classification task. In this Colab, we are going to explore two kinds of graph learning task: **link prediction** and **graph classification**. We will apply GCN to the link prediction task, and implement a novel GNN model [GIN](https://arxiv.org/abs/1810.00826) for graph classification task. All of these implementations are still based on the [PyG](https://pytorch-geometric.readthedocs.io/en/latest/).\n"
      ]
    },
    {
      "cell_type": "markdown",
      "metadata": {
        "id": "0R0-JXHoqhtD"
      },
      "source": [
        "## Outline\n",
        "\n"
      ]
    },
    {
      "cell_type": "markdown",
      "metadata": {
        "id": "ETQPVYpoqsvY"
      },
      "source": [
        "- Link prediction task\n",
        "- Graph classification task"
      ]
    },
    {
      "cell_type": "code",
      "execution_count": 1,
      "metadata": {
        "id": "Q4_xAy_J-WJp",
        "colab": {
          "base_uri": "https://localhost:8080/"
        },
        "outputId": "f3386195-416a-45ba-f1dc-37ddde3a851b"
      },
      "outputs": [
        {
          "output_type": "stream",
          "name": "stdout",
          "text": [
            "Using torch 1.12.1+cu113\n"
          ]
        }
      ],
      "source": [
        "# import the pytorch library into environment and check its version\n",
        "import os\n",
        "import torch\n",
        "print(\"Using torch\", torch.__version__)"
      ]
    },
    {
      "cell_type": "markdown",
      "metadata": {
        "id": "MC5DJkYNWGeL"
      },
      "source": [
        "Let's start installing PyG by `pip`. The version of PyG should match the current version of PyTorch. Here we follow the [instruction](https://pytorch-geometric.readthedocs.io/en/latest/notes/installation.html) of PyG:"
      ]
    },
    {
      "cell_type": "code",
      "execution_count": 2,
      "metadata": {
        "id": "NWtNbC9FgZOM",
        "colab": {
          "base_uri": "https://localhost:8080/"
        },
        "outputId": "db2d38a1-dc8c-46af-95c2-265a93c7858e"
      },
      "outputs": [
        {
          "output_type": "stream",
          "name": "stdout",
          "text": [
            "Looking in indexes: https://pypi.org/simple, https://us-python.pkg.dev/colab-wheels/public/simple/\n",
            "Looking in links: https://data.pyg.org/whl/torch-1.12.0+cu113.html\n",
            "Collecting torch-scatter\n",
            "  Downloading https://data.pyg.org/whl/torch-1.12.0%2Bcu113/torch_scatter-2.0.9-cp37-cp37m-linux_x86_64.whl (7.9 MB)\n",
            "\u001b[K     |████████████████████████████████| 7.9 MB 7.9 MB/s \n",
            "\u001b[?25hCollecting torch-sparse\n",
            "  Downloading https://data.pyg.org/whl/torch-1.12.0%2Bcu113/torch_sparse-0.6.15-cp37-cp37m-linux_x86_64.whl (3.5 MB)\n",
            "\u001b[K     |████████████████████████████████| 3.5 MB 63.9 MB/s \n",
            "\u001b[?25hCollecting torch-cluster\n",
            "  Downloading https://data.pyg.org/whl/torch-1.12.0%2Bcu113/torch_cluster-1.6.0-cp37-cp37m-linux_x86_64.whl (2.4 MB)\n",
            "\u001b[K     |████████████████████████████████| 2.4 MB 70.9 MB/s \n",
            "\u001b[?25hCollecting torch-spline-conv\n",
            "  Downloading https://data.pyg.org/whl/torch-1.12.0%2Bcu113/torch_spline_conv-1.2.1-cp37-cp37m-linux_x86_64.whl (709 kB)\n",
            "\u001b[K     |████████████████████████████████| 709 kB 79.2 MB/s \n",
            "\u001b[?25hCollecting torch-geometric\n",
            "  Downloading torch_geometric-2.1.0.post1.tar.gz (467 kB)\n",
            "\u001b[K     |████████████████████████████████| 467 kB 8.0 MB/s \n",
            "\u001b[?25hRequirement already satisfied: scipy in /usr/local/lib/python3.7/dist-packages (from torch-sparse) (1.7.3)\n",
            "Requirement already satisfied: tqdm in /usr/local/lib/python3.7/dist-packages (from torch-geometric) (4.64.1)\n",
            "Requirement already satisfied: numpy in /usr/local/lib/python3.7/dist-packages (from torch-geometric) (1.21.6)\n",
            "Requirement already satisfied: jinja2 in /usr/local/lib/python3.7/dist-packages (from torch-geometric) (2.11.3)\n",
            "Requirement already satisfied: requests in /usr/local/lib/python3.7/dist-packages (from torch-geometric) (2.23.0)\n",
            "Requirement already satisfied: pyparsing in /usr/local/lib/python3.7/dist-packages (from torch-geometric) (3.0.9)\n",
            "Requirement already satisfied: scikit-learn in /usr/local/lib/python3.7/dist-packages (from torch-geometric) (1.0.2)\n",
            "Requirement already satisfied: MarkupSafe>=0.23 in /usr/local/lib/python3.7/dist-packages (from jinja2->torch-geometric) (2.0.1)\n",
            "Requirement already satisfied: idna<3,>=2.5 in /usr/local/lib/python3.7/dist-packages (from requests->torch-geometric) (2.10)\n",
            "Requirement already satisfied: chardet<4,>=3.0.2 in /usr/local/lib/python3.7/dist-packages (from requests->torch-geometric) (3.0.4)\n",
            "Requirement already satisfied: urllib3!=1.25.0,!=1.25.1,<1.26,>=1.21.1 in /usr/local/lib/python3.7/dist-packages (from requests->torch-geometric) (1.24.3)\n",
            "Requirement already satisfied: certifi>=2017.4.17 in /usr/local/lib/python3.7/dist-packages (from requests->torch-geometric) (2022.9.24)\n",
            "Requirement already satisfied: threadpoolctl>=2.0.0 in /usr/local/lib/python3.7/dist-packages (from scikit-learn->torch-geometric) (3.1.0)\n",
            "Requirement already satisfied: joblib>=0.11 in /usr/local/lib/python3.7/dist-packages (from scikit-learn->torch-geometric) (1.2.0)\n",
            "Building wheels for collected packages: torch-geometric\n",
            "  Building wheel for torch-geometric (setup.py) ... \u001b[?25l\u001b[?25hdone\n",
            "  Created wheel for torch-geometric: filename=torch_geometric-2.1.0.post1-py3-none-any.whl size=689859 sha256=f14f39f0929f79a8a67613d505ef276d6f7003197a7e07dd194ed39891c816c3\n",
            "  Stored in directory: /root/.cache/pip/wheels/d1/cb/43/f7f2e472de4d7cff31bceddadc36d634e1e545fbc17961c282\n",
            "Successfully built torch-geometric\n",
            "Installing collected packages: torch-spline-conv, torch-sparse, torch-scatter, torch-geometric, torch-cluster\n",
            "Successfully installed torch-cluster-1.6.0 torch-geometric-2.1.0.post1 torch-scatter-2.0.9 torch-sparse-0.6.15 torch-spline-conv-1.2.1\n",
            "Looking in indexes: https://pypi.org/simple, https://us-python.pkg.dev/colab-wheels/public/simple/\n",
            "Collecting ogb\n",
            "  Downloading ogb-1.3.4-py3-none-any.whl (78 kB)\n",
            "\u001b[K     |████████████████████████████████| 78 kB 228 kB/s \n",
            "\u001b[?25hRequirement already satisfied: tqdm>=4.29.0 in /usr/local/lib/python3.7/dist-packages (from ogb) (4.64.1)\n",
            "Requirement already satisfied: six>=1.12.0 in /usr/local/lib/python3.7/dist-packages (from ogb) (1.15.0)\n",
            "Collecting outdated>=0.2.0\n",
            "  Downloading outdated-0.2.1-py3-none-any.whl (7.5 kB)\n",
            "Requirement already satisfied: torch>=1.6.0 in /usr/local/lib/python3.7/dist-packages (from ogb) (1.12.1+cu113)\n",
            "Requirement already satisfied: pandas>=0.24.0 in /usr/local/lib/python3.7/dist-packages (from ogb) (1.3.5)\n",
            "Requirement already satisfied: numpy>=1.16.0 in /usr/local/lib/python3.7/dist-packages (from ogb) (1.21.6)\n",
            "Requirement already satisfied: scikit-learn>=0.20.0 in /usr/local/lib/python3.7/dist-packages (from ogb) (1.0.2)\n",
            "Requirement already satisfied: urllib3>=1.24.0 in /usr/local/lib/python3.7/dist-packages (from ogb) (1.24.3)\n",
            "Requirement already satisfied: requests in /usr/local/lib/python3.7/dist-packages (from outdated>=0.2.0->ogb) (2.23.0)\n",
            "Collecting littleutils\n",
            "  Downloading littleutils-0.2.2.tar.gz (6.6 kB)\n",
            "Requirement already satisfied: pytz>=2017.3 in /usr/local/lib/python3.7/dist-packages (from pandas>=0.24.0->ogb) (2022.4)\n",
            "Requirement already satisfied: python-dateutil>=2.7.3 in /usr/local/lib/python3.7/dist-packages (from pandas>=0.24.0->ogb) (2.8.2)\n",
            "Requirement already satisfied: joblib>=0.11 in /usr/local/lib/python3.7/dist-packages (from scikit-learn>=0.20.0->ogb) (1.2.0)\n",
            "Requirement already satisfied: scipy>=1.1.0 in /usr/local/lib/python3.7/dist-packages (from scikit-learn>=0.20.0->ogb) (1.7.3)\n",
            "Requirement already satisfied: threadpoolctl>=2.0.0 in /usr/local/lib/python3.7/dist-packages (from scikit-learn>=0.20.0->ogb) (3.1.0)\n",
            "Requirement already satisfied: typing-extensions in /usr/local/lib/python3.7/dist-packages (from torch>=1.6.0->ogb) (4.1.1)\n",
            "Requirement already satisfied: chardet<4,>=3.0.2 in /usr/local/lib/python3.7/dist-packages (from requests->outdated>=0.2.0->ogb) (3.0.4)\n",
            "Requirement already satisfied: certifi>=2017.4.17 in /usr/local/lib/python3.7/dist-packages (from requests->outdated>=0.2.0->ogb) (2022.9.24)\n",
            "Requirement already satisfied: idna<3,>=2.5 in /usr/local/lib/python3.7/dist-packages (from requests->outdated>=0.2.0->ogb) (2.10)\n",
            "Building wheels for collected packages: littleutils\n",
            "  Building wheel for littleutils (setup.py) ... \u001b[?25l\u001b[?25hdone\n",
            "  Created wheel for littleutils: filename=littleutils-0.2.2-py3-none-any.whl size=7048 sha256=112af1c98084e95a70c0902bf2eec466fac627a383d8cf297059b657ba42ef71\n",
            "  Stored in directory: /root/.cache/pip/wheels/d6/64/cd/32819b511a488e4993f2fab909a95330289c3f4e0f6ef4676d\n",
            "Successfully built littleutils\n",
            "Installing collected packages: littleutils, outdated, ogb\n",
            "Successfully installed littleutils-0.2.2 ogb-1.3.4 outdated-0.2.1\n"
          ]
        }
      ],
      "source": [
        "!pip install torch-scatter torch-sparse torch-cluster torch-spline-conv torch-geometric -f https://data.pyg.org/whl/torch-1.12.0+cu113.html\n",
        "!pip install ogb  # for datasets"
      ]
    },
    {
      "cell_type": "markdown",
      "source": [
        "Import some required libraries into our environment:"
      ],
      "metadata": {
        "id": "Xis2aKwZI5YW"
      }
    },
    {
      "cell_type": "code",
      "source": [
        "from torch_geometric.data import Data\n",
        "from torch_geometric.datasets import Planetoid\n",
        "from torch_geometric import nn\n",
        "import torch_geometric.transforms as T"
      ],
      "metadata": {
        "id": "9JDyVPnhJlq8"
      },
      "execution_count": 10,
      "outputs": []
    },
    {
      "cell_type": "markdown",
      "source": [
        "\n",
        "\n",
        "## Link prediction task"
      ],
      "metadata": {
        "id": "cqa3EchaJiQS"
      }
    },
    {
      "cell_type": "markdown",
      "metadata": {
        "id": "Ei5_O8ZXtlGb"
      },
      "source": [
        "\n",
        "### Dataset preprocess\n",
        "\n",
        "As shown in the following figure, link prediction is to predict whether two nodes in a graph have a link, which can be considered as a binary classification task. We will construct a link prediction dataset containing training, validation, and test set based on Cora. "
      ]
    },
    {
      "cell_type": "markdown",
      "metadata": {
        "id": "PNeApmAljKyq"
      },
      "source": [
        "\n",
        "<br/>\n",
        "<center>\n",
        "<img src=\"https://github.com/Graph-and-Geometric-Learning/CPSC483-colab/blob/main/fig/link_prediction_example.png?raw=1\" height=\"200\" width=\"200\"/>\n",
        "</center>\n",
        "<br/>\n"
      ]
    },
    {
      "cell_type": "markdown",
      "source": [
        "Given a graph, we divide the initial edge set into three distinct edge sets which represent the training, validation, and test set. Training set does not include edges in validation and test set, and the validation split does not include edges in the test split. Validation and test data should not be leaked into the training set."
      ],
      "metadata": {
        "id": "H-iKLSi5OPnN"
      }
    },
    {
      "cell_type": "markdown",
      "source": [
        "\n",
        "<br/>\n",
        "<center>\n",
        "<img src=\"https://github.com/Graph-and-Geometric-Learning/CPSC483-colab/blob/main/fig/link_prediction_dataset_split.png?raw=1\" height=\"200\" width=\"500\"/>\n",
        "</center>\n",
        "<br/>\n"
      ],
      "metadata": {
        "id": "1DscWvNMZOme"
      }
    },
    {
      "cell_type": "markdown",
      "source": [
        "Our model will be optimized on the training set. We can use `transforms` function in PyG to easily generate the data splits:"
      ],
      "metadata": {
        "id": "l1QqInaaWDA9"
      }
    },
    {
      "cell_type": "code",
      "source": [
        "transform = T.Compose([\n",
        "    T.RandomLinkSplit(num_val=0.1,  # ratio of edges including in the validation set\n",
        "                      num_test=0.2,  # ratio of edges including in the test set\n",
        "                      is_undirected=True,\n",
        "                      add_negative_train_samples=False),\n",
        "])"
      ],
      "metadata": {
        "id": "eDhm2T8WNdY0"
      },
      "execution_count": 75,
      "outputs": []
    },
    {
      "cell_type": "markdown",
      "source": [
        "Loading the Cora dataset:"
      ],
      "metadata": {
        "id": "Yy8kRq68apgr"
      }
    },
    {
      "cell_type": "code",
      "source": [
        "dataset = Planetoid('/tmp/cora', 'cora', transform=transform)"
      ],
      "metadata": {
        "id": "MaZoDsHealti"
      },
      "execution_count": 76,
      "outputs": []
    },
    {
      "cell_type": "markdown",
      "source": [
        "The data will be transformed from a data object to three tuples, where each element represents the corresponding split:"
      ],
      "metadata": {
        "id": "A2mPElioa6Sk"
      }
    },
    {
      "cell_type": "code",
      "source": [
        "train_data, val_data, test_data = dataset[0]"
      ],
      "metadata": {
        "id": "DdTGSQyta6mS"
      },
      "execution_count": 77,
      "outputs": []
    },
    {
      "cell_type": "markdown",
      "source": [
        "Printing the statistics of data:"
      ],
      "metadata": {
        "id": "tKcMT7L1i1t7"
      }
    },
    {
      "cell_type": "code",
      "source": [
        "print(\"Number of the nodes in training, validation and test data are\", train_data.num_nodes, val_data.num_nodes, test_data.num_nodes)\n",
        "print(\"Number of the edges in training, validation and test data are\", train_data.num_edges, val_data.num_edges, test_data.num_edges)"
      ],
      "metadata": {
        "colab": {
          "base_uri": "https://localhost:8080/"
        },
        "id": "c5O_NY7DjAFR",
        "outputId": "dc8d2edd-da6c-4be5-e01c-f94a9ecf152f"
      },
      "execution_count": 80,
      "outputs": [
        {
          "output_type": "stream",
          "name": "stdout",
          "text": [
            "Number of the nodes in training, validation and test data are 2708 2708 2708\n",
            "Number of the edges in training, validation and test data are 7392 7392 8446\n"
          ]
        }
      ]
    },
    {
      "cell_type": "markdown",
      "source": [
        "### Model Building"
      ],
      "metadata": {
        "id": "psqGS5Qeb6k6"
      }
    },
    {
      "cell_type": "markdown",
      "source": [
        "We constructed the GCN by PyG in the last Colab, and now we simply use the same architecture:"
      ],
      "metadata": {
        "id": "PUlJKeqjjU1W"
      }
    },
    {
      "cell_type": "code",
      "source": [
        "from torch_geometric.nn import GCNConv\n",
        "\n",
        "class GCN(torch.nn.Module):\n",
        "    def __init__(self, in_channels, hidden_channels, out_channels):\n",
        "        super().__init__()\n",
        "\n",
        "        self.conv1 = GCNConv(in_channels, hidden_channels)\n",
        "        self.conv2 = GCNConv(hidden_channels, out_channels)\n",
        "        self.act = torch.nn.ReLU()\n",
        "\n",
        "    def forward(self, node_feature, edge_index):\n",
        "\n",
        "        output = self.conv1(node_feature, edge_index)\n",
        "        output = self.act(output)\n",
        "        output = self.conv2(output, edge_index)\n",
        "\n",
        "        return output"
      ],
      "metadata": {
        "id": "swSuk_b4kjJa"
      },
      "execution_count": 93,
      "outputs": []
    },
    {
      "cell_type": "markdown",
      "source": [
        "Initializing a GCN model:"
      ],
      "metadata": {
        "id": "ovbAm-sPr5vk"
      }
    },
    {
      "cell_type": "code",
      "source": [
        "model = GCN(dataset.num_features, hidden_channels=128, out_channels=64)"
      ],
      "metadata": {
        "id": "HGt4OLrbsJMd"
      },
      "execution_count": 94,
      "outputs": []
    },
    {
      "cell_type": "markdown",
      "source": [
        "Similar as the what we do in the node classification task, we first apply the GCN model to produce the representation of each node in the graph. Usually we will use **inner product** to measure the similarity between two node representations to determine how likely it is for these two nodes to be connected."
      ],
      "metadata": {
        "id": "opuOJ1IylYwV"
      }
    },
    {
      "cell_type": "markdown",
      "source": [
        "#### Question 1\n",
        "\n",
        "Following the instruction and implement the function to calculate the inner product:"
      ],
      "metadata": {
        "id": "Gp6ggnEAnLU7"
      }
    },
    {
      "cell_type": "code",
      "source": [
        "def compute_similarity(node_embs, edge_index):\n",
        "    result = 0\n",
        "\n",
        "    # TODO: Define similarity function.\n",
        "    # 1. calculate the inner product between all the pairs in the edge_index\n",
        "    # Note: the shape of node_embs is [n, h] where n is the number of nodes, and h is the embedding size\n",
        "    # the shape of edge_index is [2, m] where m is the number of edges\n",
        "\n",
        "    ############# Your code here ############\n",
        "    ## (~1 line of code)\n",
        "    result = (node_embs[edge_index[0]] * node_embs[edge_index[1]]).sum(dim=-1)\n",
        "\n",
        "    #########################################\n",
        "\n",
        "    return result\n",
        "\n",
        "n, h = 5, 10  # number of nodes and embedding size\n",
        "node_embs = torch.rand(n, h)\n",
        "edge_index = torch.tensor([[0, 1, 2, 3], \n",
        "                           [2, 3, 0, 1]])  # compute the similarity of (0, 2), (1, 3), (2, 0), (3, 1)\n",
        "similarity = compute_similarity(node_embs, edge_index)\n",
        "print(\"Similairty:\", similarity)"
      ],
      "metadata": {
        "colab": {
          "base_uri": "https://localhost:8080/"
        },
        "id": "I8PPhqrnjULN",
        "outputId": "4c66837b-b4ee-429d-a5f9-7631404cbbde"
      },
      "execution_count": 88,
      "outputs": [
        {
          "output_type": "stream",
          "name": "stdout",
          "text": [
            "Similairty: tensor([3.2714, 2.8681, 3.2714, 2.8681])\n"
          ]
        }
      ]
    },
    {
      "cell_type": "markdown",
      "source": [
        "We optimize the model by minimizing the loss function. Here we consider the link prediction task as a binary classification task (edge exists or no), and apply binary cross entropy loss:"
      ],
      "metadata": {
        "id": "XI4MF409nGmf"
      }
    },
    {
      "cell_type": "code",
      "source": [
        "criterion = torch.nn.BCEWithLogitsLoss()"
      ],
      "metadata": {
        "id": "CKENBKVlryb1"
      },
      "execution_count": 89,
      "outputs": []
    },
    {
      "cell_type": "code",
      "source": [
        "origin_dataset = Planetoid('/tmp/cora', 'cora')"
      ],
      "metadata": {
        "id": "_iBhROkpQBUb"
      },
      "execution_count": 14,
      "outputs": []
    },
    {
      "cell_type": "code",
      "source": [
        "origin_dataset[0].num_edges"
      ],
      "metadata": {
        "colab": {
          "base_uri": "https://localhost:8080/"
        },
        "id": "KVeXr9DLQEp9",
        "outputId": "b8f5cba9-7eda-4c12-f5d7-d43e32d9504f"
      },
      "execution_count": 30,
      "outputs": [
        {
          "output_type": "execute_result",
          "data": {
            "text/plain": [
              "10556"
            ]
          },
          "metadata": {},
          "execution_count": 30
        }
      ]
    },
    {
      "cell_type": "code",
      "source": [
        "origin_dataset[0].edge_index.shape"
      ],
      "metadata": {
        "colab": {
          "base_uri": "https://localhost:8080/"
        },
        "id": "8W-3Vm2XQtU1",
        "outputId": "a3aa606e-8dd0-469a-db7e-8d3e6dea91c8"
      },
      "execution_count": 81,
      "outputs": [
        {
          "output_type": "execute_result",
          "data": {
            "text/plain": [
              "torch.Size([2, 10556])"
            ]
          },
          "metadata": {},
          "execution_count": 81
        }
      ]
    },
    {
      "cell_type": "code",
      "source": [
        "dataset = Planetoid('/tmp/cora', 'cora', transform=transform)"
      ],
      "metadata": {
        "id": "R9oALG9aNkNU"
      },
      "execution_count": 50,
      "outputs": []
    },
    {
      "cell_type": "code",
      "source": [
        "train_data, val_data, test_data = dataset[0]"
      ],
      "metadata": {
        "id": "IQbu4YC_Nqj_"
      },
      "execution_count": 51,
      "outputs": []
    },
    {
      "cell_type": "code",
      "source": [
        "train_data.edge_index"
      ],
      "metadata": {
        "colab": {
          "base_uri": "https://localhost:8080/"
        },
        "id": "k-A37II7Nssb",
        "outputId": "edd7cfb0-f46d-4f4c-e2be-a58537c9b7f8"
      },
      "execution_count": 52,
      "outputs": [
        {
          "output_type": "execute_result",
          "data": {
            "text/plain": [
              "tensor([[1740, 1957, 1225,  ..., 2432, 2321,  760],\n",
              "        [2391, 2241, 2579,  ..., 2431, 2266,  567]])"
            ]
          },
          "metadata": {},
          "execution_count": 52
        }
      ]
    },
    {
      "cell_type": "code",
      "source": [
        "val_data.edge_index"
      ],
      "metadata": {
        "colab": {
          "base_uri": "https://localhost:8080/"
        },
        "id": "AyTl9x8MNsun",
        "outputId": "a1a60460-ebd6-4245-ad5c-4b39b8dbaa43"
      },
      "execution_count": 53,
      "outputs": [
        {
          "output_type": "execute_result",
          "data": {
            "text/plain": [
              "tensor([[1740, 1957, 1225,  ..., 2432, 2321,  760],\n",
              "        [2391, 2241, 2579,  ..., 2431, 2266,  567]])"
            ]
          },
          "metadata": {},
          "execution_count": 53
        }
      ]
    },
    {
      "cell_type": "code",
      "source": [
        "test_data.num_edges"
      ],
      "metadata": {
        "colab": {
          "base_uri": "https://localhost:8080/"
        },
        "id": "EKNjB1txQK1Y",
        "outputId": "cd6f5798-16c6-4adb-aec3-dccf205b56cb"
      },
      "execution_count": 65,
      "outputs": [
        {
          "output_type": "execute_result",
          "data": {
            "text/plain": [
              "8446"
            ]
          },
          "metadata": {},
          "execution_count": 65
        }
      ]
    },
    {
      "cell_type": "code",
      "source": [
        "edge_index = origin_dataset[0].edge_index"
      ],
      "metadata": {
        "id": "S8PvYTQuTEFZ"
      },
      "execution_count": 61,
      "outputs": []
    },
    {
      "cell_type": "code",
      "source": [
        "mask = edge_index[0] <= edge_index[1]\n",
        "perm = mask.nonzero(as_tuple=False).view(-1)\n",
        "perm = perm[torch.randperm(perm.size(0), device=perm.device)]"
      ],
      "metadata": {
        "id": "GAkGGiMjTB9h"
      },
      "execution_count": 62,
      "outputs": []
    },
    {
      "cell_type": "code",
      "source": [
        "perm.shape"
      ],
      "metadata": {
        "colab": {
          "base_uri": "https://localhost:8080/"
        },
        "id": "wwNjD_ifTIwT",
        "outputId": "8fec34bc-0076-4d8a-84f4-d5d7f1d011ea"
      },
      "execution_count": 64,
      "outputs": [
        {
          "output_type": "execute_result",
          "data": {
            "text/plain": [
              "torch.Size([5278])"
            ]
          },
          "metadata": {},
          "execution_count": 64
        }
      ]
    },
    {
      "cell_type": "code",
      "source": [
        "num_val = int(0.2 * perm.numel())\n",
        "num_val"
      ],
      "metadata": {
        "colab": {
          "base_uri": "https://localhost:8080/"
        },
        "id": "OSbLNadJTB_q",
        "outputId": "3b7d714c-429d-4e6d-efc4-bc6f6ae5a401"
      },
      "execution_count": 67,
      "outputs": [
        {
          "output_type": "execute_result",
          "data": {
            "text/plain": [
              "1055"
            ]
          },
          "metadata": {},
          "execution_count": 67
        }
      ]
    },
    {
      "cell_type": "code",
      "source": [
        "num_test = int(0.2 * perm.numel())\n",
        "num_test"
      ],
      "metadata": {
        "colab": {
          "base_uri": "https://localhost:8080/"
        },
        "id": "D8n6QLAzTCBt",
        "outputId": "c2879023-0377-4c1d-e582-53334b6d2323"
      },
      "execution_count": 70,
      "outputs": [
        {
          "output_type": "execute_result",
          "data": {
            "text/plain": [
              "1055"
            ]
          },
          "metadata": {},
          "execution_count": 70
        }
      ]
    },
    {
      "cell_type": "code",
      "source": [
        "num_train = perm.numel() - num_val - num_test\n",
        "num_train"
      ],
      "metadata": {
        "colab": {
          "base_uri": "https://localhost:8080/"
        },
        "id": "gEDnbrHRTrGm",
        "outputId": "0c4f4ba2-c46a-45e6-d8da-29c8f3edd1e7"
      },
      "execution_count": 71,
      "outputs": [
        {
          "output_type": "execute_result",
          "data": {
            "text/plain": [
              "3168"
            ]
          },
          "metadata": {},
          "execution_count": 71
        }
      ]
    },
    {
      "cell_type": "code",
      "source": [
        "train_edges = perm[:num_train]\n",
        "val_edges = perm[num_train:num_train + num_val]\n",
        "test_edges = perm[num_train + num_val:]\n",
        "train_val_edges = perm[:num_train + num_val]"
      ],
      "metadata": {
        "id": "AhfNlv5TTmCp"
      },
      "execution_count": 72,
      "outputs": []
    },
    {
      "cell_type": "code",
      "source": [
        "val_edges.shape"
      ],
      "metadata": {
        "colab": {
          "base_uri": "https://localhost:8080/"
        },
        "id": "QQOfR6KZTmFN",
        "outputId": "37d2d970-b9fb-49f7-b120-36d72fe26ce5"
      },
      "execution_count": 74,
      "outputs": [
        {
          "output_type": "execute_result",
          "data": {
            "text/plain": [
              "torch.Size([1055])"
            ]
          },
          "metadata": {},
          "execution_count": 74
        }
      ]
    },
    {
      "cell_type": "code",
      "source": [],
      "metadata": {
        "id": "IOF5cd4ITmHa"
      },
      "execution_count": null,
      "outputs": []
    },
    {
      "cell_type": "markdown",
      "source": [],
      "metadata": {
        "id": "gSqRJ3HAMs1c"
      }
    },
    {
      "cell_type": "markdown",
      "source": [],
      "metadata": {
        "id": "Ml--zq9dMs5L"
      }
    },
    {
      "cell_type": "markdown",
      "source": [
        "Firstly, we load the Cora dataset:"
      ],
      "metadata": {
        "id": "TqmYZYLTMURj"
      }
    },
    {
      "cell_type": "code",
      "source": [
        "dataset = Planetoid('/tmp/cora', 'cora')\n",
        "data = dataset[0]"
      ],
      "metadata": {
        "colab": {
          "base_uri": "https://localhost:8080/"
        },
        "id": "gbTgkrH4JxeQ",
        "outputId": "1154f11a-6227-42e6-91dd-8ad35bc6068a"
      },
      "execution_count": 4,
      "outputs": [
        {
          "output_type": "stream",
          "name": "stderr",
          "text": [
            "Downloading https://github.com/kimiyoung/planetoid/raw/master/data/ind.cora.x\n",
            "Downloading https://github.com/kimiyoung/planetoid/raw/master/data/ind.cora.tx\n",
            "Downloading https://github.com/kimiyoung/planetoid/raw/master/data/ind.cora.allx\n",
            "Downloading https://github.com/kimiyoung/planetoid/raw/master/data/ind.cora.y\n",
            "Downloading https://github.com/kimiyoung/planetoid/raw/master/data/ind.cora.ty\n",
            "Downloading https://github.com/kimiyoung/planetoid/raw/master/data/ind.cora.ally\n",
            "Downloading https://github.com/kimiyoung/planetoid/raw/master/data/ind.cora.graph\n",
            "Downloading https://github.com/kimiyoung/planetoid/raw/master/data/ind.cora.test.index\n",
            "Processing...\n",
            "Done!\n"
          ]
        }
      ]
    },
    {
      "cell_type": "code",
      "execution_count": null,
      "metadata": {
        "id": "ZSndMSIJhvC6"
      },
      "outputs": [],
      "source": [
        "# import torch_geometric.data into environment\n",
        "from torch_geometric.data import Data"
      ]
    },
    {
      "cell_type": "markdown",
      "metadata": {
        "id": "P6Usm6XTk22d"
      },
      "source": [
        "We have 6 edges (undirected graph) and 3 nodes in this graph. So the edge index can be defined as:"
      ]
    },
    {
      "cell_type": "code",
      "execution_count": null,
      "metadata": {
        "id": "fAqsazT4lPAZ"
      },
      "outputs": [],
      "source": [
        "edge_index = torch.tensor([[0, 1, 1, 2, 0, 2],\n",
        "                           [1, 0, 2, 1, 2, 0]], dtype=torch.long)"
      ]
    },
    {
      "cell_type": "markdown",
      "metadata": {
        "id": "Bk9_BnZ--WJu"
      },
      "source": [
        "Each edge is represented as a tuple (u, v), and that edge_index consists of num_edges columns where each column consists of the two indices u and v corresponding to each edge."
      ]
    },
    {
      "cell_type": "markdown",
      "metadata": {
        "id": "_fw5y3_Ulx1T"
      },
      "source": [
        "Besides, each node can have a node feature which describes the node's property:"
      ]
    },
    {
      "cell_type": "code",
      "execution_count": null,
      "metadata": {
        "id": "3doHCX65l63N"
      },
      "outputs": [],
      "source": [
        "x = torch.tensor([[-1], [0], [1]], dtype=torch.float)"
      ]
    },
    {
      "cell_type": "markdown",
      "metadata": {
        "id": "XGKFW9sRlnFK"
      },
      "source": [
        "Then we can define a `Data` object with edge index and node attribute:"
      ]
    },
    {
      "cell_type": "code",
      "execution_count": null,
      "metadata": {
        "id": "6mmud5UqlfM9"
      },
      "outputs": [],
      "source": [
        "data = Data(x=x, edge_index=edge_index)"
      ]
    },
    {
      "cell_type": "markdown",
      "metadata": {
        "id": "9Af1qVLlmCNb"
      },
      "source": [
        "`Data` object supports many useful utility functions. For example, we can see the number of the nodes, and whether the graph is a undirected graph:"
      ]
    },
    {
      "cell_type": "code",
      "execution_count": null,
      "metadata": {
        "id": "ybw_wwuStyHo"
      },
      "outputs": [],
      "source": [
        "num_nodes = data.num_nodes\n",
        "print(\"number of nodes is:\", num_nodes)\n",
        "\n",
        "is_directed = data.is_directed()\n",
        "print(\"graph is directed or not:\", is_directed)"
      ]
    },
    {
      "cell_type": "markdown",
      "metadata": {
        "id": "OCY73L2LGoS8"
      },
      "source": [
        "### Question 1 (5 points)\n",
        "\n",
        "What is the number of the neighbors of node 0 in the graph?"
      ]
    },
    {
      "cell_type": "code",
      "execution_count": null,
      "metadata": {
        "id": "HMg1NUP9Gnkq"
      },
      "outputs": [],
      "source": [
        "def get_n_neighbors(graph, idx):\n",
        "  # TODO: Implement a function that takes a Data object,\n",
        "  # an index of a node, and returns the number of the neighbors \n",
        "  # of this node (as an integer).\n",
        "\n",
        "  n_neighbors = 0\n",
        "\n",
        "  ############# Your code here ############\n",
        "  ## (~1 line of code)\n",
        "\n",
        "  #########################################\n",
        "\n",
        "  return n_neighbors\n",
        "\n",
        "idx = 0\n",
        "n_neighbors = get_n_neighbors(data, idx)\n",
        "print('Node with index {} has {} neighbors'.format(idx, n_neighbors))"
      ]
    },
    {
      "cell_type": "markdown",
      "metadata": {
        "id": "aKHOYbMCE9b7"
      },
      "source": [
        "PyG has a number of graph data with various scales. Cora is one of the most famous dataset in graph learning, and we can use it by PyG:"
      ]
    },
    {
      "cell_type": "code",
      "execution_count": null,
      "metadata": {
        "id": "RfZq2L2uEphL"
      },
      "outputs": [],
      "source": [
        "from torch_geometric.datasets import Planetoid\n",
        "\n",
        "dataset = Planetoid('/tmp/cora', 'cora')\n",
        "data = dataset[0]"
      ]
    },
    {
      "cell_type": "markdown",
      "metadata": {
        "id": "W2h5lpJYpjV0"
      },
      "source": [
        "We can see the number of the nodes and edges in cora:"
      ]
    },
    {
      "cell_type": "code",
      "execution_count": null,
      "metadata": {
        "id": "UnYTDzQFpi40"
      },
      "outputs": [],
      "source": [
        "num_nodes = data.num_nodes\n",
        "print('cora has {} nodes'.format(num_nodes))\n",
        "\n",
        "num_edges = data.num_edges\n",
        "print('cora has {} edges'.format(num_edges))"
      ]
    },
    {
      "cell_type": "markdown",
      "metadata": {
        "id": "HebClViZqU1V"
      },
      "source": [
        "### Question 2 (10 points)\n",
        "\n",
        "1. What is the number of the classes in cora dataset? \n",
        "2. Which node in Cora has the most number of neighbors?"
      ]
    },
    {
      "cell_type": "code",
      "execution_count": null,
      "metadata": {
        "id": "pVuXmtFnqr4e"
      },
      "outputs": [],
      "source": [
        "def get_num_classes(data):\n",
        "  # TODO: Implement a function that takes a dataset object\n",
        "  # and returns the number of classes for that dataset.\n",
        "\n",
        "  num_classes = 0\n",
        "\n",
        "  ############# Your code here ############\n",
        "  ## (~1 line of code)\n",
        "  \n",
        "  #########################################\n",
        "\n",
        "  return num_classes\n",
        "\n",
        "def get_idx_with_most_neighbors(data):\n",
        "  # TODO: Implement a function that takes a dataset object\n",
        "  # and returns the node's index that has the greatest amount of neighbors.\n",
        "\n",
        "  idx = -1\n",
        "\n",
        "  ############# Your code here ############\n",
        "  ## (~3 line of code)\n",
        "  \n",
        "  #########################################\n",
        "\n",
        "  return idx\n",
        "\n",
        "num_classes = get_num_classes(data)\n",
        "print(\"cora has {} classes\".format(num_classes))\n",
        "\n",
        "idx = get_idx_with_most_neighbors(data)\n",
        "print(\"{} in cora has the most number of neighbors\".format(idx))"
      ]
    },
    {
      "cell_type": "markdown",
      "metadata": {
        "id": "iiQW1Hs46Kpv"
      },
      "source": [
        "In cora, we split the data into train set, validation set and test set by node mask. All the nodes will participate in the message passing process, but we can only assess the train label during training process. This is what we call [transductive learning](https://en.wikipedia.org/wiki/Transduction_(machine_learning))."
      ]
    },
    {
      "cell_type": "code",
      "execution_count": null,
      "metadata": {
        "id": "ioXYJFV-7UU_"
      },
      "outputs": [],
      "source": [
        "node_feature = data.x\n",
        "\n",
        "train_node_feature = node_feature[data.train_mask]\n",
        "valid_node_feature = node_feature[data.val_mask]\n",
        "test_node_feature = node_feature[data.test_mask]\n",
        "\n",
        "print(\"number of nodes in train set,\", train_node_feature.shape[0])\n",
        "print(\"number of nodes in valid set,\", valid_node_feature.shape[0])\n",
        "print(\"number of nodes in test set,\", test_node_feature.shape[0])"
      ]
    },
    {
      "cell_type": "markdown",
      "metadata": {
        "id": "EhLEhOimr7mY"
      },
      "source": [
        "## Build a GNN by PyG\n",
        "\n",
        "In this section we will use PyG to build a classic graph neural network called GCN([Kipf et al. (2017)](https://arxiv.org/pdf/1609.02907.pdf)). Then we will apply this model to handle node classification task in cora.\n",
        "A GCN is built by stacking multiple graph convolution layers `GCNConv` which passes the messages from neighbors to the center node. Here we can define a `GCNConv` by PyG:\n"
      ]
    },
    {
      "cell_type": "code",
      "execution_count": null,
      "metadata": {
        "id": "x-8eQfROu7Hm"
      },
      "outputs": [],
      "source": [
        "from torch_geometric.nn import GCNConv\n",
        "\n",
        "conv = GCNConv(in_channels=1433, out_channels=200, normalize=True)"
      ]
    },
    {
      "cell_type": "markdown",
      "metadata": {
        "id": "UxNlpZ5cvI9s"
      },
      "source": [
        "`in_channels` is the dimension of node's input feature, `out_channels` is the  dimension of the output representation of node, and `normalize` is whether to add self-loops and compute symmetric normalization on the adjacent matrix. \n",
        "The feature's dimension in cora is 1433, so `in_channels` is set as 1433. We can perform a message passing on cora like this:"
      ]
    },
    {
      "cell_type": "code",
      "execution_count": null,
      "metadata": {
        "id": "MlwiHnm7wy8S"
      },
      "outputs": [],
      "source": [
        "node_feature = data.x\n",
        "edge_index = data.edge_index\n",
        "\n",
        "node_representation = conv(node_feature, edge_index)\n",
        "\n",
        "print(\"dimension of node_feature:\", node_feature.shape)\n",
        "print(\"dimension of node_representation:\", node_representation.shape)"
      ]
    },
    {
      "cell_type": "markdown",
      "metadata": {
        "id": "LxItCC52xud5"
      },
      "source": [
        "We can see that the inputs of `GCNConv` are node feature and edge index. Then the convolution module will perform a message passing like GCN. \n",
        "Recall the MLP we build in colab0. Here we also use `nn.Module` to define a MLP class containing the basic modules of GCN. "
      ]
    },
    {
      "cell_type": "markdown",
      "metadata": {
        "id": "eug5Vv-Py5f_"
      },
      "source": [
        "### Question 3 (10 points)\n",
        "\n",
        "Following the instruction and build a GCN class using the `GCNConv` modules. \n"
      ]
    },
    {
      "cell_type": "code",
      "execution_count": null,
      "metadata": {
        "id": "iDO3ucqjtBF6"
      },
      "outputs": [],
      "source": [
        "class GCN(torch.nn.Module):\n",
        "    def __init__(self, in_channels, hidden_channels, out_channels):\n",
        "        super().__init__()\n",
        "\n",
        "        # TODO: Define two GCNConv modules and a ReLU function.\n",
        "        # The input size and output size of first GCNConv module should be in_channels and hidden_channels\n",
        "        # The input size and output size of second GCNConv module should be hidden_channels and out_channels\n",
        "\n",
        "        ############# Your code here ############\n",
        "        ## (~3 line of code)\n",
        "\n",
        "        #########################################\n",
        "\n",
        "    def forward(self, node_feature, edge_index):\n",
        "\n",
        "        output = None\n",
        "\n",
        "        # TODO: Use the modules you define in __init__ to perform message passing.\n",
        "        # ReLU function should be used in the middle of two GCNConv modules.\n",
        "\n",
        "        ############# Your code here ############\n",
        "        ## (~3 line of code)\n",
        "\n",
        "        #########################################\n",
        "\n",
        "        return output"
      ]
    },
    {
      "cell_type": "markdown",
      "metadata": {
        "id": "eHgZ1ozBsYXN"
      },
      "source": [
        "## Training and Testing\n",
        "\n",
        "Now we can try to construct training and testing pipeline, which is similar to what we do in colab0. First we initialize a GCN model:"
      ]
    },
    {
      "cell_type": "code",
      "execution_count": null,
      "metadata": {
        "id": "d0hojVFN1iMm"
      },
      "outputs": [],
      "source": [
        "hidden_channels = 200\n",
        "num_features = dataset.num_features\n",
        "num_classes = 0  # please write down the number of classes\n",
        "\n",
        "model = GCN(num_features, hidden_channels, num_classes)"
      ]
    },
    {
      "cell_type": "markdown",
      "metadata": {
        "id": "8mA96Hyl2B_v"
      },
      "source": [
        "Then we define the optimizer and loss function. Since it is a classification task, we use Cross Entropy Loss:"
      ]
    },
    {
      "cell_type": "code",
      "execution_count": null,
      "metadata": {
        "id": "nPOFix9C2BRb"
      },
      "outputs": [],
      "source": [
        "import torch.optim as optim\n",
        "import torch.nn as nn\n",
        "\n",
        "optimizer = optim.Adam(model.parameters(), lr=1e-4)\n",
        "loss_fn = nn.CrossEntropyLoss()"
      ]
    },
    {
      "cell_type": "markdown",
      "metadata": {
        "id": "vCbOTE893mR6"
      },
      "source": [
        "### Question 4 (10 points)\n",
        "\n",
        "Please follow the instruction and implement a function that trains a model. "
      ]
    },
    {
      "cell_type": "code",
      "execution_count": null,
      "metadata": {
        "id": "45-zRkbN3lxF"
      },
      "outputs": [],
      "source": [
        "def train(model, data, optimizer, loss_fn):\n",
        "\n",
        "    loss = 0\n",
        "\n",
        "    # TODO: Define train function.\n",
        "    # 1. put the model into train mode\n",
        "    # 2. clear the gradients calculated from the last batch\n",
        "    # 3. get the prediction by model\n",
        "    # 4. calculate the loss between our predictions and the actual labels. \n",
        "    # Just using nodes in train set!\n",
        "    # 5. calculate the gradients of each parameter\n",
        "    # 6. update the parameters by taking an optimizer step\n",
        "\n",
        "    ############# Your code here ############\n",
        "    ## (~7 line of code)\n",
        "\n",
        "    #########################################\n",
        "\n",
        "    return loss"
      ]
    },
    {
      "cell_type": "markdown",
      "metadata": {
        "id": "VxgTvA6U_3-B"
      },
      "source": [
        "### Question 5 (10 points)\n",
        "\n",
        "Please follow the instruction and implement a function that evaluates a model in train, valid and test sets."
      ]
    },
    {
      "cell_type": "code",
      "execution_count": null,
      "metadata": {
        "id": "E60aSasX_-Qe"
      },
      "outputs": [],
      "source": [
        "@torch.no_grad()\n",
        "def test(model, data):\n",
        "\n",
        "    accuracy_list = [0, 0, 0]\n",
        "\n",
        "    # TODO: Define test function.\n",
        "    # 1. put the model into eval mode\n",
        "    # 2. get the prediction by model\n",
        "    # 3. calculate the accuracy for each set\n",
        "    # NOTE: the results should be a list containing the accuracy of different set\n",
        "\n",
        "    ############# Your code here ############\n",
        "    ## (~5 line of code)\n",
        "\n",
        "    #########################################\n",
        "\n",
        "    return accuracy_list"
      ]
    },
    {
      "cell_type": "markdown",
      "metadata": {
        "id": "_lDrWoNtBbpi"
      },
      "source": [
        "We can start to train our model with `train` and `test` functions:"
      ]
    },
    {
      "cell_type": "code",
      "execution_count": null,
      "metadata": {
        "colab": {
          "base_uri": "https://localhost:8080/"
        },
        "id": "GsLEBfWDBu2k",
        "outputId": "7857a0a4-bf93-4be6-c6d4-9d8b129d3081"
      },
      "outputs": [
        {
          "name": "stdout",
          "output_type": "stream",
          "text": [
            "after 10 epochs' training, the best test accuracy is 0\n"
          ]
        }
      ],
      "source": [
        "epochs = 10\n",
        "\n",
        "best_val_acc = final_test_acc = 0\n",
        "for epoch in range(1, epochs + 1):\n",
        "    loss = train(model, data, optimizer, loss_fn)\n",
        "    train_acc, val_acc, test_acc = test(model, data)\n",
        "    if val_acc > best_val_acc:\n",
        "        best_val_acc = val_acc\n",
        "        final_test_acc = test_acc\n",
        "print(\"after {} epochs' training, the best test accuracy is {}\".format(epochs, final_test_acc))"
      ]
    },
    {
      "cell_type": "markdown",
      "metadata": {
        "id": "cb7pp6W7-WJ2"
      },
      "source": [
        "## Submission\n",
        "\n",
        "Make sure to run all the cells and save a copy of this colab in your driver. If you complete this notebook, download the colab and upload your work to canvas to submit it."
      ]
    }
  ],
  "metadata": {
    "colab": {
      "collapsed_sections": [
        "ddiMjUdbmW24",
        "H1ikBfJFZ1iy",
        "IEvPG5hIfuU5",
        "1SZax14Sg61s",
        "lqkSkLWKC7ku",
        "Ope6QD8w8w3S"
      ],
      "provenance": [],
      "toc_visible": true,
      "include_colab_link": true
    },
    "kernelspec": {
      "display_name": "Python 3",
      "language": "python",
      "name": "python3"
    },
    "language_info": {
      "codemirror_mode": {
        "name": "ipython",
        "version": 3
      },
      "file_extension": ".py",
      "mimetype": "text/x-python",
      "name": "python",
      "nbconvert_exporter": "python",
      "pygments_lexer": "ipython3",
      "version": "3.7.3"
    }
  },
  "nbformat": 4,
  "nbformat_minor": 0
}